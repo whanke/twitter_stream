{
 "cells": [
  {
   "cell_type": "code",
   "execution_count": 1,
   "metadata": {},
   "outputs": [],
   "source": [
    "import emoji \n",
    "import csv\n",
    "import datetime\n",
    "import re\n",
    "from collections import Counter\n",
    "import timeit\n",
    "import os\n",
    "import glob\n",
    "import pandas as pd\n",
    "import matplotlib.pyplot as plt\n",
    "import numpy as np\n",
    "\n",
    "# Desktop\n",
    "filepath = 'C:\\\\Users\\\\Wilm Hanke\\\\Documents\\\\GitHub\\\\twitter_stream\\\\tweet_files\\\\concat_all_tweets.txt'\n",
    "\n",
    "# Mobile\n",
    "#filepath = 'C:\\\\Users\\\\Wilm\\\\Documents\\\\GitHub\\\\twitter_stream\\\\tweet files\\\\concat_all_tweets.txt'"
   ]
  },
  {
   "cell_type": "code",
   "execution_count": 4,
   "metadata": {},
   "outputs": [],
   "source": [
    "# merge all several tweet Files to one big file: 'concat_all_tweets.txt'\n",
    "\n",
    "# uncomment for safety reasons\n",
    "\n",
    "\"\"\"\n",
    "allfiles = glob.iglob('C:\\\\Users\\\\Wilm Hanke\\\\Documents\\\\GitHub\\\\twitter_stream\\\\tweet_files\\\\*.txt')\n",
    "\n",
    "\n",
    "for file in allfiles:\n",
    "    with open(file, 'r+', encoding = 'utf-8') as f:\n",
    "        with open('C:\\\\Users\\\\Wilm Hanke\\\\Documents\\\\GitHub\\\\twitter_stream\\\\tweet_files\\\\concat_all_tweets.txt', 'a', encoding = 'utf-8') as f2:\n",
    "            for line in f:\n",
    "                if not line == '\\n':\n",
    "                    f2.write(line)\n",
    "\"\"\""
   ]
  },
  {
   "cell_type": "code",
   "execution_count": 5,
   "metadata": {
    "scrolled": true
   },
   "outputs": [],
   "source": [
    "# creating DataFrame\n",
    "\n",
    "df = pd.DataFrame(pd.read_csv(filepath, header = None, index_col = False))"
   ]
  },
  {
   "cell_type": "code",
   "execution_count": 10,
   "metadata": {},
   "outputs": [
    {
     "name": "stdout",
     "output_type": "stream",
     "text": [
      "<class 'pandas.core.frame.DataFrame'>\n",
      "RangeIndex: 2775023 entries, 0 to 2775022\n",
      "Data columns (total 3 columns):\n",
      "id_str                     int64\n",
      "in_reply_to_user_id_str    float64\n",
      "raw_text                   object\n",
      "dtypes: float64(1), int64(1), object(1)\n",
      "memory usage: 63.5+ MB\n"
     ]
    }
   ],
   "source": [
    "df.info()"
   ]
  },
  {
   "cell_type": "code",
   "execution_count": 8,
   "metadata": {},
   "outputs": [],
   "source": [
    "df.columns=['created_at','id_str','in_reply_to_user_id_str','raw_text']\n",
    "\n",
    "# entfernt Spalte \"created_at\"\n",
    "df = df.drop(columns='created_at')"
   ]
  },
  {
   "cell_type": "code",
   "execution_count": 9,
   "metadata": {},
   "outputs": [
    {
     "data": {
      "text/html": [
       "<div>\n",
       "<style scoped>\n",
       "    .dataframe tbody tr th:only-of-type {\n",
       "        vertical-align: middle;\n",
       "    }\n",
       "\n",
       "    .dataframe tbody tr th {\n",
       "        vertical-align: top;\n",
       "    }\n",
       "\n",
       "    .dataframe thead th {\n",
       "        text-align: right;\n",
       "    }\n",
       "</style>\n",
       "<table border=\"1\" class=\"dataframe\">\n",
       "  <thead>\n",
       "    <tr style=\"text-align: right;\">\n",
       "      <th></th>\n",
       "      <th>id_str</th>\n",
       "      <th>in_reply_to_user_id_str</th>\n",
       "      <th>raw_text</th>\n",
       "    </tr>\n",
       "  </thead>\n",
       "  <tbody>\n",
       "    <tr>\n",
       "      <th>0</th>\n",
       "      <td>1013820394304749573</td>\n",
       "      <td>NaN</td>\n",
       "      <td>People talking shit on México when their team ...</td>\n",
       "    </tr>\n",
       "  </tbody>\n",
       "</table>\n",
       "</div>"
      ],
      "text/plain": [
       "                id_str  in_reply_to_user_id_str  \\\n",
       "0  1013820394304749573                      NaN   \n",
       "\n",
       "                                            raw_text  \n",
       "0  People talking shit on México when their team ...  "
      ]
     },
     "execution_count": 9,
     "metadata": {},
     "output_type": "execute_result"
    }
   ],
   "source": [
    "# drop tweets which startswith 'RT' --> get only original tweets, without Retweets\n",
    "\n",
    "df_filtered_by_RT = df[~df.raw_text.str.startswith('RT')]\n",
    "\n",
    "df_filtered_by_RT.head(1)"
   ]
  },
  {
   "cell_type": "code",
   "execution_count": 11,
   "metadata": {},
   "outputs": [],
   "source": [
    "def extract_chars(my_str):     \n",
    "    return ''.join([c for c in my_str if not(c in emoji.UNICODE_EMOJI)])\n",
    "\n",
    "def anonymize_username(my_str):\n",
    "    anonymized_text = ['@username' if x.startswith('@') else x for x in list(my_str.split())]\n",
    "    return ' '.join(anonymized_text)\n",
    "\n",
    "def anonymize_hashtag(my_str): \n",
    "    return ' '.join(['#hashtag' if x.startswith('#') else x for x in list(my_str.split())])\n",
    "\n",
    "def delete_links(my_str): \n",
    "    return ' '.join(['' if x.startswith('https') else x for x in list(my_str.split())])\n",
    "# to do: hashtags und links entfernen\n",
    "\n",
    "df_clean_text = df['raw_text'].apply(lambda x: delete_links(anonymize_hashtag(anonymize_username(extract_chars(x)))))"
   ]
  },
  {
   "cell_type": "code",
   "execution_count": 12,
   "metadata": {},
   "outputs": [],
   "source": [
    "def extract_emojis(my_str):\n",
    "    return ''.join(c for c in my_str if c in emoji.UNICODE_EMOJI)\n",
    "\n",
    "df_extr_emojis = df['raw_text'].apply(lambda x: extract_emojis(x))"
   ]
  },
  {
   "cell_type": "code",
   "execution_count": 13,
   "metadata": {},
   "outputs": [
    {
     "data": {
      "text/html": [
       "<div>\n",
       "<style scoped>\n",
       "    .dataframe tbody tr th:only-of-type {\n",
       "        vertical-align: middle;\n",
       "    }\n",
       "\n",
       "    .dataframe tbody tr th {\n",
       "        vertical-align: top;\n",
       "    }\n",
       "\n",
       "    .dataframe thead th {\n",
       "        text-align: right;\n",
       "    }\n",
       "</style>\n",
       "<table border=\"1\" class=\"dataframe\">\n",
       "  <thead>\n",
       "    <tr style=\"text-align: right;\">\n",
       "      <th></th>\n",
       "      <th>id_str</th>\n",
       "      <th>in_reply_to_user_id_str</th>\n",
       "      <th>raw_text</th>\n",
       "      <th>clean_text</th>\n",
       "      <th>extr_emojis</th>\n",
       "    </tr>\n",
       "  </thead>\n",
       "  <tbody>\n",
       "    <tr>\n",
       "      <th>0</th>\n",
       "      <td>1013820394304749573</td>\n",
       "      <td>NaN</td>\n",
       "      <td>People talking shit on México when their team didn’t even participate in the #worldcup like sit down 😂\"2018-07-02 16:23:12</td>\n",
       "      <td>People talking shit on México when their team didn’t even participate in the #hashtag like sit down \"2018-07-02 16:23:12</td>\n",
       "      <td>😂</td>\n",
       "    </tr>\n",
       "    <tr>\n",
       "      <th>1</th>\n",
       "      <td>1013820396154564609</td>\n",
       "      <td>NaN</td>\n",
       "      <td>We're done here#gotgotgot#WorldCup https://t.co/XJe3bzorST</td>\n",
       "      <td>We're done here#gotgotgot#WorldCup</td>\n",
       "      <td></td>\n",
       "    </tr>\n",
       "    <tr>\n",
       "      <th>2</th>\n",
       "      <td>1013820399090454528</td>\n",
       "      <td>NaN</td>\n",
       "      <td>I was going for Mexico, But i like Brazil too so its cool, Neymar still in it lets see if he can go all the way #WorldCup</td>\n",
       "      <td>I was going for Mexico, But i like Brazil too so its cool, Neymar still in it lets see if he can go all the way #hashtag</td>\n",
       "      <td></td>\n",
       "    </tr>\n",
       "    <tr>\n",
       "      <th>3</th>\n",
       "      <td>1013820400155779072</td>\n",
       "      <td>NaN</td>\n",
       "      <td>Serbian President Vucic Believed in Russia's Victory Over Spain at World Cup - Ambassador https://t.co/7ffKHBwGl8… https://t.co/zakD00KJyH</td>\n",
       "      <td>Serbian President Vucic Believed in Russia's Victory Over Spain at World Cup - Ambassador</td>\n",
       "      <td></td>\n",
       "    </tr>\n",
       "    <tr>\n",
       "      <th>4</th>\n",
       "      <td>1013820402907267072</td>\n",
       "      <td>NaN</td>\n",
       "      <td>Bshshshshshs https://t.co/qdIiKoQViV</td>\n",
       "      <td>Bshshshshshs</td>\n",
       "      <td></td>\n",
       "    </tr>\n",
       "  </tbody>\n",
       "</table>\n",
       "</div>"
      ],
      "text/plain": [
       "                id_str  in_reply_to_user_id_str  \\\n",
       "0  1013820394304749573 NaN                        \n",
       "1  1013820396154564609 NaN                        \n",
       "2  1013820399090454528 NaN                        \n",
       "3  1013820400155779072 NaN                        \n",
       "4  1013820402907267072 NaN                        \n",
       "\n",
       "                                                                                                                                     raw_text  \\\n",
       "0  People talking shit on México when their team didn’t even participate in the #worldcup like sit down 😂\"2018-07-02 16:23:12                   \n",
       "1  We're done here#gotgotgot#WorldCup https://t.co/XJe3bzorST                                                                                   \n",
       "2  I was going for Mexico, But i like Brazil too so its cool, Neymar still in it lets see if he can go all the way #WorldCup                    \n",
       "3  Serbian President Vucic Believed in Russia's Victory Over Spain at World Cup - Ambassador https://t.co/7ffKHBwGl8… https://t.co/zakD00KJyH   \n",
       "4  Bshshshshshs https://t.co/qdIiKoQViV                                                                                                         \n",
       "\n",
       "                                                                                                                 clean_text  \\\n",
       "0  People talking shit on México when their team didn’t even participate in the #hashtag like sit down \"2018-07-02 16:23:12   \n",
       "1  We're done here#gotgotgot#WorldCup                                                                                         \n",
       "2  I was going for Mexico, But i like Brazil too so its cool, Neymar still in it lets see if he can go all the way #hashtag   \n",
       "3  Serbian President Vucic Believed in Russia's Victory Over Spain at World Cup - Ambassador                                  \n",
       "4  Bshshshshshs                                                                                                               \n",
       "\n",
       "  extr_emojis  \n",
       "0  😂           \n",
       "1              \n",
       "2              \n",
       "3              \n",
       "4              "
      ]
     },
     "execution_count": 13,
     "metadata": {},
     "output_type": "execute_result"
    }
   ],
   "source": [
    "# unhide the strings in jupyter notebook\n",
    "pd.options.display.max_rows\n",
    "pd.set_option('display.max_colwidth', -1)\n",
    "\n",
    "new_df = df_filtered_by_RT.assign(clean_text = df_clean_text, extr_emojis = df_extr_emojis)\n",
    "new_df.head()"
   ]
  },
  {
   "cell_type": "code",
   "execution_count": 14,
   "metadata": {},
   "outputs": [
    {
     "data": {
      "text/html": [
       "<div>\n",
       "<style scoped>\n",
       "    .dataframe tbody tr th:only-of-type {\n",
       "        vertical-align: middle;\n",
       "    }\n",
       "\n",
       "    .dataframe tbody tr th {\n",
       "        vertical-align: top;\n",
       "    }\n",
       "\n",
       "    .dataframe thead th {\n",
       "        text-align: right;\n",
       "    }\n",
       "</style>\n",
       "<table border=\"1\" class=\"dataframe\">\n",
       "  <thead>\n",
       "    <tr style=\"text-align: right;\">\n",
       "      <th></th>\n",
       "      <th>id_str</th>\n",
       "      <th>in_reply_to_user_id_str</th>\n",
       "      <th>raw_text</th>\n",
       "      <th>clean_text</th>\n",
       "      <th>extr_emojis</th>\n",
       "    </tr>\n",
       "  </thead>\n",
       "  <tbody>\n",
       "    <tr>\n",
       "      <th>0</th>\n",
       "      <td>1013820394304749573</td>\n",
       "      <td>NaN</td>\n",
       "      <td>People talking shit on México when their team didn’t even participate in the #worldcup like sit down 😂\"2018-07-02 16:23:12</td>\n",
       "      <td>People talking shit on México when their team didn’t even participate in the #hashtag like sit down \"2018-07-02 16:23:12</td>\n",
       "      <td>😂</td>\n",
       "    </tr>\n",
       "    <tr>\n",
       "      <th>8</th>\n",
       "      <td>1013820404601942017</td>\n",
       "      <td>NaN</td>\n",
       "      <td>Did you hear about the hungry clock? It went back four seconds. 😄 #Gemstars #Jokes #Smile 😄\"2018-07-02 16:23:15</td>\n",
       "      <td>Did you hear about the hungry clock? It went back four seconds. #hashtag #hashtag #hashtag \"2018-07-02 16:23:15</td>\n",
       "      <td>😄😄</td>\n",
       "    </tr>\n",
       "    <tr>\n",
       "      <th>18</th>\n",
       "      <td>1013820413732782082</td>\n",
       "      <td>NaN</td>\n",
       "      <td>Now that's what you call a game....action, suspense, drama &amp;amp; comedy! 🇧🇷⚽🏆#BRAMEX #WorldCup #soccer… https://t.co/16nhJna0Yz</td>\n",
       "      <td>Now that's what you call a game....action, suspense, drama &amp;amp; comedy! 🇧🇷#BRAMEX #hashtag #hashtag</td>\n",
       "      <td>⚽🏆</td>\n",
       "    </tr>\n",
       "    <tr>\n",
       "      <th>24</th>\n",
       "      <td>1013820425028194307</td>\n",
       "      <td>NaN</td>\n",
       "      <td>Listening to the match, think it’s Brazil’s to loose... maybe. It’d b class if #Firminho done a ‘no look’ lifting of the cup 😵🏆#WorldCup2018</td>\n",
       "      <td>Listening to the match, think it’s Brazil’s to loose... maybe. It’d b class if #hashtag done a ‘no look’ lifting of the cup #hashtag</td>\n",
       "      <td>😵🏆</td>\n",
       "    </tr>\n",
       "    <tr>\n",
       "      <th>38</th>\n",
       "      <td>1013820438043152384</td>\n",
       "      <td>NaN</td>\n",
       "      <td>Well done Brazil! But Neymar be trippin’ 😂😂😂 #neymar #brazil #fifaworldcup #footballmemes #southafricanblogger https://t.co/8M6BfQ5Ne8</td>\n",
       "      <td>Well done Brazil! But Neymar be trippin’ #hashtag #hashtag #hashtag #hashtag #hashtag</td>\n",
       "      <td>😂😂😂</td>\n",
       "    </tr>\n",
       "  </tbody>\n",
       "</table>\n",
       "</div>"
      ],
      "text/plain": [
       "                 id_str  in_reply_to_user_id_str  \\\n",
       "0   1013820394304749573 NaN                        \n",
       "8   1013820404601942017 NaN                        \n",
       "18  1013820413732782082 NaN                        \n",
       "24  1013820425028194307 NaN                        \n",
       "38  1013820438043152384 NaN                        \n",
       "\n",
       "                                                                                                                                        raw_text  \\\n",
       "0   People talking shit on México when their team didn’t even participate in the #worldcup like sit down 😂\"2018-07-02 16:23:12                     \n",
       "8   Did you hear about the hungry clock? It went back four seconds. 😄 #Gemstars #Jokes #Smile 😄\"2018-07-02 16:23:15                                \n",
       "18  Now that's what you call a game....action, suspense, drama &amp; comedy! 🇧🇷⚽🏆#BRAMEX #WorldCup #soccer… https://t.co/16nhJna0Yz                \n",
       "24  Listening to the match, think it’s Brazil’s to loose... maybe. It’d b class if #Firminho done a ‘no look’ lifting of the cup 😵🏆#WorldCup2018   \n",
       "38  Well done Brazil! But Neymar be trippin’ 😂😂😂 #neymar #brazil #fifaworldcup #footballmemes #southafricanblogger https://t.co/8M6BfQ5Ne8         \n",
       "\n",
       "                                                                                                                              clean_text  \\\n",
       "0   People talking shit on México when their team didn’t even participate in the #hashtag like sit down \"2018-07-02 16:23:12               \n",
       "8   Did you hear about the hungry clock? It went back four seconds. #hashtag #hashtag #hashtag \"2018-07-02 16:23:15                        \n",
       "18  Now that's what you call a game....action, suspense, drama &amp; comedy! 🇧🇷#BRAMEX #hashtag #hashtag                                   \n",
       "24  Listening to the match, think it’s Brazil’s to loose... maybe. It’d b class if #hashtag done a ‘no look’ lifting of the cup #hashtag   \n",
       "38  Well done Brazil! But Neymar be trippin’ #hashtag #hashtag #hashtag #hashtag #hashtag                                                  \n",
       "\n",
       "   extr_emojis  \n",
       "0   😂           \n",
       "8   😄😄          \n",
       "18  ⚽🏆          \n",
       "24  😵🏆          \n",
       "38  😂😂😂         "
      ]
     },
     "execution_count": 14,
     "metadata": {},
     "output_type": "execute_result"
    }
   ],
   "source": [
    "# rows only with emoji\n",
    "\n",
    "df_emoji_rows = new_df[new_df.extr_emojis != '']\n",
    "df_emoji_rows.head()"
   ]
  },
  {
   "cell_type": "code",
   "execution_count": 15,
   "metadata": {},
   "outputs": [
    {
     "data": {
      "text/plain": [
       "😂       17098\n",
       "⚽       7636 \n",
       "😂😂😂     7306 \n",
       "😂😂      6281 \n",
       "❤       5976 \n",
       "🤔       4532 \n",
       "😍       3961 \n",
       "🙄       2848 \n",
       "👏       2797 \n",
       "🏴       2704 \n",
       "🙌       2649 \n",
       "🔥       2529 \n",
       "👍       2507 \n",
       "😉       2386 \n",
       "😭       2350 \n",
       "😂😂😂😂    2336 \n",
       "😎       2263 \n",
       "🤣       2257 \n",
       "😊       2248 \n",
       "🙏       2196 \n",
       "Name: extr_emojis, dtype: int64"
      ]
     },
     "execution_count": 15,
     "metadata": {},
     "output_type": "execute_result"
    }
   ],
   "source": [
    "# zählen der emoji vorkommen\n",
    "df_emoji_rows.extr_emojis.value_counts().head(20)"
   ]
  },
  {
   "cell_type": "code",
   "execution_count": 16,
   "metadata": {},
   "outputs": [
    {
     "data": {
      "text/plain": [
       "<matplotlib.axes._subplots.AxesSubplot at 0x262000226a0>"
      ]
     },
     "execution_count": 16,
     "metadata": {},
     "output_type": "execute_result"
    },
    {
     "data": {
      "image/png": "[encoded data removed]",
      "text/plain": [
       "<matplotlib.figure.Figure at 0x262658c0e10>"
      ]
     },
     "metadata": {},
     "output_type": "display_data"
    }
   ],
   "source": [
    "# vorkommen aller emoji\n",
    "df_emoji_rows.extr_emojis.value_counts().head(20).plot.bar()"
   ]
  },
  {
   "cell_type": "code",
   "execution_count": 17,
   "metadata": {},
   "outputs": [
    {
     "data": {
      "text/plain": [
       "<matplotlib.axes._subplots.AxesSubplot at 0x26252d790f0>"
      ]
     },
     "execution_count": 17,
     "metadata": {},
     "output_type": "execute_result"
    },
    {
     "data": {
      "image/png": "[encoded data removed]",
      "text/plain": [
       "<matplotlib.figure.Figure at 0x26252d37f98>"
      ]
     },
     "metadata": {},
     "output_type": "display_data"
    }
   ],
   "source": [
    "# vorkommen von nur einzelnen emoji\n",
    "df_emoji_rows['extr_emojis'][df_emoji_rows['extr_emojis'].str.len() == 1].value_counts().head(20).plot.bar()"
   ]
  },
  {
   "cell_type": "code",
   "execution_count": 33,
   "metadata": {},
   "outputs": [
    {
     "data": {
      "text/plain": [
       "numpy.float64"
      ]
     },
     "execution_count": 33,
     "metadata": {},
     "output_type": "execute_result"
    }
   ],
   "source": [
    "### unhide the strings in jupyter notebook\n",
    "pd.options.display.max_rows\n",
    "pd.set_option('display.max_colwidth', -1)\n",
    "\n",
    "\n",
    "#new_df.clean_text[new_df['clean_text']==997055707471003653]\n",
    "type(df.iloc[15]['in_reply_to_user_id_str'])"
   ]
  },
  {
   "cell_type": "code",
   "execution_count": null,
   "metadata": {},
   "outputs": [],
   "source": [
    "Zipfsche Gesetz\n",
    "y-Achse = relative Worthäufigkeit bzw. Emojihäufigkeit\n",
    "x-Achse = Rang\n",
    "https://docs.scipy.org/doc/numpy/reference/generated/numpy.random.zipf.html"
   ]
  },
  {
   "cell_type": "code",
   "execution_count": 19,
   "metadata": {},
   "outputs": [
    {
     "name": "stderr",
     "output_type": "stream",
     "text": [
      "C:\\ProgramData\\Anaconda3\\lib\\site-packages\\ipykernel_launcher.py:4: SettingWithCopyWarning: \n",
      "A value is trying to be set on a copy of a slice from a DataFrame.\n",
      "Try using .loc[row_indexer,col_indexer] = value instead\n",
      "\n",
      "See the caveats in the documentation: http://pandas.pydata.org/pandas-docs/stable/indexing.html#indexing-view-versus-copy\n",
      "  after removing the cwd from sys.path.\n"
     ]
    },
    {
     "name": "stdout",
     "output_type": "stream",
     "text": [
      "id_str:  1013842967482847232\n",
      "re_id:  1013842967482847232\n",
      "found a match\n",
      "id_str:  1013846031681900544\n",
      "re_id:  1013846031681900544\n",
      "found a match\n"
     ]
    }
   ],
   "source": [
    "# test/WIP: find a response to an initial tweet\n",
    "df_initial_tweets = df_emoji_rows[df_emoji_rows['in_reply_to_user_id_str'].isnull()] # tweets without reply_id\n",
    "df_response_tweets = df_emoji_rows[~df_emoji_rows['in_reply_to_user_id_str'].isnull()] # tweets with reply_id\n",
    "df_response_tweets['in_reply_to_user_id_str'] = df_response_tweets['in_reply_to_user_id_str'].astype(np.int64)\n",
    "\n",
    "for id_str in df_initial_tweets['id_str']:\n",
    "    for re_id in df_response_tweets['in_reply_to_user_id_str'].head(200):\n",
    "        if id_str == re_id:\n",
    "            print('id_str: ', id_str)\n",
    "            print('re_id: ', re_id)\n",
    "            print('found a match')\n",
    "# id_str type= int\n",
    "# in_reply_to_user_id_str type = float\n"
   ]
  },
  {
   "cell_type": "code",
   "execution_count": 20,
   "metadata": {},
   "outputs": [
    {
     "name": "stderr",
     "output_type": "stream",
     "text": [
      "C:\\ProgramData\\Anaconda3\\lib\\site-packages\\pandas\\core\\ops.py:1167: FutureWarning: elementwise comparison failed; returning scalar instead, but in the future will perform elementwise comparison\n",
      "  result = method(y)\n"
     ]
    },
    {
     "ename": "TypeError",
     "evalue": "invalid type comparison",
     "output_type": "error",
     "traceback": [
      "\u001b[1;31m---------------------------------------------------------------------------\u001b[0m",
      "\u001b[1;31mTypeError\u001b[0m                                 Traceback (most recent call last)",
      "\u001b[1;32m<ipython-input-20-5b3be1a21659>\u001b[0m in \u001b[0;36m<module>\u001b[1;34m()\u001b[0m\n\u001b[0;32m      1\u001b[0m \u001b[1;36m1013842967482847232\u001b[0m\u001b[1;33m\u001b[0m\u001b[0m\n\u001b[1;32m----> 2\u001b[1;33m \u001b[0mdf_initial_tweets\u001b[0m\u001b[1;33m[\u001b[0m\u001b[1;34m'id_str'\u001b[0m\u001b[1;33m]\u001b[0m \u001b[1;33m==\u001b[0m \u001b[1;34m'1013842967482847232'\u001b[0m\u001b[1;33m\u001b[0m\u001b[0m\n\u001b[0m",
      "\u001b[1;32mC:\\ProgramData\\Anaconda3\\lib\\site-packages\\pandas\\core\\ops.py\u001b[0m in \u001b[0;36mwrapper\u001b[1;34m(self, other, axis)\u001b[0m\n\u001b[0;32m   1281\u001b[0m \u001b[1;33m\u001b[0m\u001b[0m\n\u001b[0;32m   1282\u001b[0m             \u001b[1;32mwith\u001b[0m \u001b[0mnp\u001b[0m\u001b[1;33m.\u001b[0m\u001b[0merrstate\u001b[0m\u001b[1;33m(\u001b[0m\u001b[0mall\u001b[0m\u001b[1;33m=\u001b[0m\u001b[1;34m'ignore'\u001b[0m\u001b[1;33m)\u001b[0m\u001b[1;33m:\u001b[0m\u001b[1;33m\u001b[0m\u001b[0m\n\u001b[1;32m-> 1283\u001b[1;33m                 \u001b[0mres\u001b[0m \u001b[1;33m=\u001b[0m \u001b[0mna_op\u001b[0m\u001b[1;33m(\u001b[0m\u001b[0mvalues\u001b[0m\u001b[1;33m,\u001b[0m \u001b[0mother\u001b[0m\u001b[1;33m)\u001b[0m\u001b[1;33m\u001b[0m\u001b[0m\n\u001b[0m\u001b[0;32m   1284\u001b[0m             \u001b[1;32mif\u001b[0m \u001b[0mis_scalar\u001b[0m\u001b[1;33m(\u001b[0m\u001b[0mres\u001b[0m\u001b[1;33m)\u001b[0m\u001b[1;33m:\u001b[0m\u001b[1;33m\u001b[0m\u001b[0m\n\u001b[0;32m   1285\u001b[0m                 raise TypeError('Could not compare {typ} type with Series'\n",
      "\u001b[1;32mC:\\ProgramData\\Anaconda3\\lib\\site-packages\\pandas\\core\\ops.py\u001b[0m in \u001b[0;36mna_op\u001b[1;34m(x, y)\u001b[0m\n\u001b[0;32m   1167\u001b[0m                     \u001b[0mresult\u001b[0m \u001b[1;33m=\u001b[0m \u001b[0mmethod\u001b[0m\u001b[1;33m(\u001b[0m\u001b[0my\u001b[0m\u001b[1;33m)\u001b[0m\u001b[1;33m\u001b[0m\u001b[0m\n\u001b[0;32m   1168\u001b[0m                 \u001b[1;32mif\u001b[0m \u001b[0mresult\u001b[0m \u001b[1;32mis\u001b[0m \u001b[0mNotImplemented\u001b[0m\u001b[1;33m:\u001b[0m\u001b[1;33m\u001b[0m\u001b[0m\n\u001b[1;32m-> 1169\u001b[1;33m                     \u001b[1;32mraise\u001b[0m \u001b[0mTypeError\u001b[0m\u001b[1;33m(\u001b[0m\u001b[1;34m\"invalid type comparison\"\u001b[0m\u001b[1;33m)\u001b[0m\u001b[1;33m\u001b[0m\u001b[0m\n\u001b[0m\u001b[0;32m   1170\u001b[0m             \u001b[1;32melse\u001b[0m\u001b[1;33m:\u001b[0m\u001b[1;33m\u001b[0m\u001b[0m\n\u001b[0;32m   1171\u001b[0m                 \u001b[0mresult\u001b[0m \u001b[1;33m=\u001b[0m \u001b[0mop\u001b[0m\u001b[1;33m(\u001b[0m\u001b[0mx\u001b[0m\u001b[1;33m,\u001b[0m \u001b[0my\u001b[0m\u001b[1;33m)\u001b[0m\u001b[1;33m\u001b[0m\u001b[0m\n",
      "\u001b[1;31mTypeError\u001b[0m: invalid type comparison"
     ]
    }
   ],
   "source": [
    "1013842967482847232\n",
    "df_initial_tweets['id_str'] == '1013842967482847232'"
   ]
  },
  {
   "cell_type": "code",
   "execution_count": 12,
   "metadata": {},
   "outputs": [
    {
     "name": "stderr",
     "output_type": "stream",
     "text": [
      "c:\\users\\wilm\\appdata\\local\\programs\\python\\python36\\lib\\site-packages\\ipykernel_launcher.py:10: SettingWithCopyWarning: \n",
      "A value is trying to be set on a copy of a slice from a DataFrame.\n",
      "Try using .loc[row_indexer,col_indexer] = value instead\n",
      "\n",
      "See the caveats in the documentation: http://pandas.pydata.org/pandas-docs/stable/indexing.html#indexing-view-versus-copy\n",
      "  # Remove the CWD from sys.path while we load stuff.\n"
     ]
    },
    {
     "ename": "ValueError",
     "evalue": "invalid literal for int() with base 10: 'My morning just got better !  @BTS_twt #iVoteBTSBBMAs https://t.co/EoJ83MA5Pz'",
     "output_type": "error",
     "traceback": [
      "\u001b[1;31m---------------------------------------------------------------------------\u001b[0m",
      "\u001b[1;31mValueError\u001b[0m                                Traceback (most recent call last)",
      "\u001b[1;32m<ipython-input-12-fb310b5c379b>\u001b[0m in \u001b[0;36m<module>\u001b[1;34m()\u001b[0m\n\u001b[0;32m     17\u001b[0m     \u001b[0mresponse_tweet_list\u001b[0m \u001b[1;33m=\u001b[0m \u001b[1;33m[\u001b[0m\u001b[0mx\u001b[0m\u001b[1;33m.\u001b[0m\u001b[0mstrip\u001b[0m\u001b[1;33m(\u001b[0m\u001b[1;33m)\u001b[0m \u001b[1;32mfor\u001b[0m \u001b[0mx\u001b[0m \u001b[1;32min\u001b[0m \u001b[0mrow\u001b[0m\u001b[1;33m[\u001b[0m\u001b[1;34m'clean_text'\u001b[0m\u001b[1;33m]\u001b[0m\u001b[1;33m.\u001b[0m\u001b[0msplit\u001b[0m\u001b[1;33m(\u001b[0m\u001b[1;34m','\u001b[0m\u001b[1;33m)\u001b[0m\u001b[1;33m]\u001b[0m\u001b[1;33m\u001b[0m\u001b[0m\n\u001b[0;32m     18\u001b[0m     \u001b[1;32mfor\u001b[0m \u001b[0mresponse_tweet_id\u001b[0m \u001b[1;32min\u001b[0m \u001b[0mresponse_tweet_list\u001b[0m\u001b[1;33m:\u001b[0m\u001b[1;33m\u001b[0m\u001b[0m\n\u001b[1;32m---> 19\u001b[1;33m         \u001b[0mresponse_tweet_id\u001b[0m \u001b[1;33m=\u001b[0m \u001b[0mint\u001b[0m\u001b[1;33m(\u001b[0m\u001b[0mresponse_tweet_id\u001b[0m\u001b[1;33m)\u001b[0m\u001b[1;33m\u001b[0m\u001b[0m\n\u001b[0m\u001b[0;32m     20\u001b[0m         \u001b[1;32mif\u001b[0m \u001b[0mlen\u001b[0m\u001b[1;33m(\u001b[0m\u001b[0mresponse_tweet_list\u001b[0m\u001b[1;33m)\u001b[0m \u001b[1;33m==\u001b[0m \u001b[1;36m1\u001b[0m\u001b[1;33m:\u001b[0m \u001b[1;31m# conversation besteht lediglich aus zwei aussagen (initaler und antwortender tweet)\u001b[0m\u001b[1;33m\u001b[0m\u001b[0m\n\u001b[0;32m     21\u001b[0m         \u001b[1;31m#print('response_tweet_id: ', response_tweet_id, type(response_tweet_id))\u001b[0m\u001b[1;33m\u001b[0m\u001b[1;33m\u001b[0m\u001b[0m\n",
      "\u001b[1;31mValueError\u001b[0m: invalid literal for int() with base 10: 'My morning just got better !  @BTS_twt #iVoteBTSBBMAs https://t.co/EoJ83MA5Pz'"
     ]
    }
   ],
   "source": [
    "### Conversations zusammenstellen\n",
    "# finding all tweets that response to an initial tweet\n",
    "# Conversation = initial_tweet & reply_tweet\n",
    "\n",
    "\n",
    "df_initial_tweets = df_emoji_rows[df_emoji_rows['in_reply_to_user_id_str'].isnull()] # tweets without reply_id\n",
    "df_response_tweets = df_emoji_rows[~df_emoji_rows['in_reply_to_user_id_str'].isnull()] # tweets with reply_id\n",
    "\n",
    "# transform datatype in \"in_reply_to_user_id_str\" from numpy.float64 to np.int64\n",
    "df_response_tweets['in_reply_to_user_id_str'] = df_response_tweets['in_reply_to_user_id_str'].astype(np.int64)\n",
    "\n",
    "\n",
    "dialogues_1vs1 = []\n",
    "    \n",
    "for index, row in df_initial_tweets.head().iterrows():\n",
    "    #print(row['clean_text'])\n",
    "    response_tweet_list = [x.strip() for x in row['clean_text'].split(',')]\n",
    "    for response_tweet_id in response_tweet_list:\n",
    "        response_tweet_id = int(response_tweet_id)\n",
    "        if len(response_tweet_list) == 1: # conversation besteht lediglich aus zwei aussagen (initaler und antwortender tweet)\n",
    "        #print('response_tweet_id: ', response_tweet_id, type(response_tweet_id))\n",
    "            for tweet_id in df_initial_tweets['id_str']:\n",
    "                #print('tweet_id: ', tweet_id, type(tweet_id))\n",
    "                if response_tweet_id == tweet_id: \n",
    "                    #print('\\nConversation\\n')\n",
    "                    #print('initial_tweet')\n",
    "                    #print(row['tweet_id'], row['text'])\n",
    "                    #print(row['text'])\n",
    "                    initial_tweet = row['raw_text']\n",
    "\n",
    "                    #print('response_tweet')\n",
    "                    response_tweet = df_response_tweets.loc[df_response_tweets['id_str']== response_tweet_id]['text']\n",
    "                    #print(response_tweet.values[0])\n",
    "                    response_tweet = df_response_tweets.loc[df_response_tweets['id_str']== response_tweet_id]['text']\n",
    "                    dialogues_1vs1.append([initial_tweet, response_tweet.values[0]])\n",
    "print('done')"
   ]
  },
  {
   "cell_type": "code",
   "execution_count": null,
   "metadata": {},
   "outputs": [],
   "source": [
    "### quantitative Analyse von Abhängigkeiten\n",
    "# bei gegebenen emoji im initial Tweet, welche top 3 emoji im reply Tweet folgen?\n",
    "# x Achse: relative Frequenz von reply-tweet-emoji (Top 5)\n",
    "# y Achse: initial-tweet-emoji sortiert nach Häufigkeit (häufigster emoji links) (insgesamt Top 5 emoji)"
   ]
  },
  {
   "cell_type": "code",
   "execution_count": 21,
   "metadata": {},
   "outputs": [
    {
     "data": {
      "image/png": "[encoded data removed]",
      "text/plain": [
       "<matplotlib.figure.Figure at 0x26254552710>"
      ]
     },
     "metadata": {},
     "output_type": "display_data"
    }
   ],
   "source": [
    "### Spielwiese\n",
    "\n",
    "# libraries\n",
    "import numpy as np\n",
    "import matplotlib.pyplot as plt\n",
    " \n",
    "# set width of bar\n",
    "barWidth = 0.25\n",
    " \n",
    "# set height of bar\n",
    "bars1 = [12, 30, 1, 8, 22]\n",
    "bars2 = [28, 6, 16, 5, 10]\n",
    "bars3 = [29, 3, 24, 25, 17]\n",
    " \n",
    "# Set position of bar on X axis\n",
    "r1 = np.arange(len(bars1))\n",
    "r2 = [x + barWidth for x in r1]\n",
    "r3 = [x + barWidth for x in r2]\n",
    " \n",
    "# Make the plot\n",
    "plt.bar(r1, bars1, color='#7f6d5f', width=barWidth, edgecolor='white', label='var1')\n",
    "plt.bar(r2, bars2, color='#557f2d', width=barWidth, edgecolor='white', label='var2')\n",
    "plt.bar(r3, bars3, color='#2d7f5e', width=barWidth, edgecolor='white', label='var3')\n",
    " \n",
    "# Add xticks on the middle of the group bars\n",
    "plt.xlabel('TOP 5 Emoji', fontweight='bold')\n",
    "plt.ylabel('Anzahl', fontweight = 'bold')\n",
    "plt.xticks([r + barWidth for r in range(len(bars1))], ['😂', 'B', 'C', 'D', 'E'])\n",
    " \n",
    "# Create legend & Show graphic\n",
    "plt.legend()\n",
    "plt.show()\n"
   ]
  }
 ],
 "metadata": {
  "kernelspec": {
   "display_name": "Python 3",
   "language": "python",
   "name": "python3"
  },
  "language_info": {
   "codemirror_mode": {
    "name": "ipython",
    "version": 3
   },
   "file_extension": ".py",
   "mimetype": "text/x-python",
   "name": "python",
   "nbconvert_exporter": "python",
   "pygments_lexer": "ipython3",
   "version": "3.6.4"
  }
 },
 "nbformat": 4,
 "nbformat_minor": 2
}
