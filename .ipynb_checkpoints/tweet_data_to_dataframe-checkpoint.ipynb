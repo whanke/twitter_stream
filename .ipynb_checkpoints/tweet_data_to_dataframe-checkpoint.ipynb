{
 "cells": [
  {
   "cell_type": "code",
   "execution_count": 37,
   "metadata": {},
   "outputs": [],
   "source": [
    "import emoji \n",
    "import csv\n",
    "import datetime\n",
    "import re\n",
    "from collections import Counter\n",
    "import timeit\n",
    "import os\n",
    "import glob\n",
    "import pandas as pd\n",
    "import matplotlib.pyplot as plt\n",
    "import numpy as np\n",
    "\n",
    "filepath = 'C:\\\\Users\\\\Wilm Hanke\\\\Documents\\\\GitHub\\\\twitter_stream\\\\tweet files\\\\tweets-2018-05-23.txt_strip.txt_set_rows.txt'\n",
    "\n",
    "path = 'C:\\\\Users\\\\Wilm Hanke\\\\Documents\\\\GitHub\\\\twitter_stream\\\\tweet files'\n",
    "allFiles = glob.iglob(os.path.join(path, \"*_set_rows.txt\"))\n"
   ]
  },
  {
   "cell_type": "code",
   "execution_count": 10,
   "metadata": {
    "collapsed": true
   },
   "outputs": [
    {
     "data": {
      "text/html": [
       "<div>\n",
       "<style scoped>\n",
       "    .dataframe tbody tr th:only-of-type {\n",
       "        vertical-align: middle;\n",
       "    }\n",
       "\n",
       "    .dataframe tbody tr th {\n",
       "        vertical-align: top;\n",
       "    }\n",
       "\n",
       "    .dataframe thead th {\n",
       "        text-align: right;\n",
       "    }\n",
       "</style>\n",
       "<table border=\"1\" class=\"dataframe\">\n",
       "  <thead>\n",
       "    <tr style=\"text-align: right;\">\n",
       "      <th></th>\n",
       "      <th>created_at</th>\n",
       "      <th>id_str</th>\n",
       "      <th>in_reply_to_user_id_str</th>\n",
       "      <th>text</th>\n",
       "    </tr>\n",
       "  </thead>\n",
       "  <tbody>\n",
       "    <tr>\n",
       "      <th>67745</th>\n",
       "      <td>2018-05-23 15:47:05</td>\n",
       "      <td>999315792553566208</td>\n",
       "      <td>1.020857e+09</td>\n",
       "      <td>@USFreedomArmy I've been dealing with censorsh...</td>\n",
       "    </tr>\n",
       "    <tr>\n",
       "      <th>67746</th>\n",
       "      <td>2018-05-23 15:47:06</td>\n",
       "      <td>999315794755489792</td>\n",
       "      <td>1.911491e+09</td>\n",
       "      <td>#Nervous #ThisIsNotTheEndOfOneDirection #BBMAs...</td>\n",
       "    </tr>\n",
       "    <tr>\n",
       "      <th>67747</th>\n",
       "      <td>2018-05-23 15:47:08</td>\n",
       "      <td>999315801596448768</td>\n",
       "      <td>2.679228e+07</td>\n",
       "      <td>@ForeignPolicy @WHO @Laurie_Garrett @realDonal...</td>\n",
       "    </tr>\n",
       "    <tr>\n",
       "      <th>67748</th>\n",
       "      <td>2018-05-23 15:47:02</td>\n",
       "      <td>999315778078883840</td>\n",
       "      <td>NaN</td>\n",
       "      <td>Find out how you can get help in putting toget...</td>\n",
       "    </tr>\n",
       "    <tr>\n",
       "      <th>67749</th>\n",
       "      <td>2018-05-23 15:47:09</td>\n",
       "      <td>999315806063419393</td>\n",
       "      <td>NaN</td>\n",
       "      <td>Its to the point!#LearnDevelopLive #Quotes #qu...</td>\n",
       "    </tr>\n",
       "    <tr>\n",
       "      <th>67750</th>\n",
       "      <td>2018-05-23 15:47:09</td>\n",
       "      <td>999315807417942017</td>\n",
       "      <td>NaN</td>\n",
       "      <td>Investors &amp;amp; Developers, an excellent oppor...</td>\n",
       "    </tr>\n",
       "    <tr>\n",
       "      <th>67751</th>\n",
       "      <td>2018-05-23 15:47:10</td>\n",
       "      <td>999315809926234112</td>\n",
       "      <td>NaN</td>\n",
       "      <td>fucc https://t.co/vMWM9EuJXK</td>\n",
       "    </tr>\n",
       "    <tr>\n",
       "      <th>67752</th>\n",
       "      <td>2018-05-23 15:47:11</td>\n",
       "      <td>999315814980489216</td>\n",
       "      <td>NaN</td>\n",
       "      <td>Just saw this on eBay &amp;gt;&amp;gt; #4334 #USA #lov...</td>\n",
       "    </tr>\n",
       "    <tr>\n",
       "      <th>67753</th>\n",
       "      <td>2018-05-23 15:47:12</td>\n",
       "      <td>999315819057344513</td>\n",
       "      <td>NaN</td>\n",
       "      <td>Everyone has blind spots. Your best advisors l...</td>\n",
       "    </tr>\n",
       "    <tr>\n",
       "      <th>67754</th>\n",
       "      <td>2018-05-23 15:47:12</td>\n",
       "      <td>999315819791290368</td>\n",
       "      <td>NaN</td>\n",
       "      <td>https://t.co/zTTiTORhZ0 #garage \"WATCH: Ten Th...</td>\n",
       "    </tr>\n",
       "  </tbody>\n",
       "</table>\n",
       "</div>"
      ],
      "text/plain": [
       "                created_at              id_str  in_reply_to_user_id_str  \\\n",
       "67745  2018-05-23 15:47:05  999315792553566208             1.020857e+09   \n",
       "67746  2018-05-23 15:47:06  999315794755489792             1.911491e+09   \n",
       "67747  2018-05-23 15:47:08  999315801596448768             2.679228e+07   \n",
       "67748  2018-05-23 15:47:02  999315778078883840                      NaN   \n",
       "67749  2018-05-23 15:47:09  999315806063419393                      NaN   \n",
       "67750  2018-05-23 15:47:09  999315807417942017                      NaN   \n",
       "67751  2018-05-23 15:47:10  999315809926234112                      NaN   \n",
       "67752  2018-05-23 15:47:11  999315814980489216                      NaN   \n",
       "67753  2018-05-23 15:47:12  999315819057344513                      NaN   \n",
       "67754  2018-05-23 15:47:12  999315819791290368                      NaN   \n",
       "\n",
       "                                                    text  \n",
       "67745  @USFreedomArmy I've been dealing with censorsh...  \n",
       "67746  #Nervous #ThisIsNotTheEndOfOneDirection #BBMAs...  \n",
       "67747  @ForeignPolicy @WHO @Laurie_Garrett @realDonal...  \n",
       "67748  Find out how you can get help in putting toget...  \n",
       "67749  Its to the point!#LearnDevelopLive #Quotes #qu...  \n",
       "67750  Investors &amp; Developers, an excellent oppor...  \n",
       "67751                       fucc https://t.co/vMWM9EuJXK  \n",
       "67752  Just saw this on eBay &gt;&gt; #4334 #USA #lov...  \n",
       "67753  Everyone has blind spots. Your best advisors l...  \n",
       "67754  https://t.co/zTTiTORhZ0 #garage \"WATCH: Ten Th...  "
      ]
     },
     "execution_count": 10,
     "metadata": {},
     "output_type": "execute_result"
    }
   ],
   "source": [
    "# einzelnes DataFrame aus dem Pool von Tweetfiles\n",
    "data = pd.read_csv(filepath)\n",
    "df = pd.DataFrame(data)\n",
    "\n",
    "df.columns=['created_at','id_str','in_reply_to_user_id_str','text']\n",
    "df.tail(10)"
   ]
  },
  {
   "cell_type": "code",
   "execution_count": 13,
   "metadata": {
    "scrolled": false
   },
   "outputs": [
    {
     "data": {
      "text/plain": [
       "Index(['created_at', 'id_str', 'in_reply_to_user_id_str', 'text'], dtype='object')"
      ]
     },
     "execution_count": 13,
     "metadata": {},
     "output_type": "execute_result"
    }
   ],
   "source": [
    "df.columns"
   ]
  },
  {
   "cell_type": "code",
   "execution_count": 38,
   "metadata": {},
   "outputs": [
    {
     "data": {
      "text/html": [
       "<div>\n",
       "<style scoped>\n",
       "    .dataframe tbody tr th:only-of-type {\n",
       "        vertical-align: middle;\n",
       "    }\n",
       "\n",
       "    .dataframe tbody tr th {\n",
       "        vertical-align: top;\n",
       "    }\n",
       "\n",
       "    .dataframe thead th {\n",
       "        text-align: right;\n",
       "    }\n",
       "</style>\n",
       "<table border=\"1\" class=\"dataframe\">\n",
       "  <thead>\n",
       "    <tr style=\"text-align: right;\">\n",
       "      <th></th>\n",
       "      <th>created_at</th>\n",
       "      <th>id_str</th>\n",
       "      <th>in_reply_to_user_id_str</th>\n",
       "      <th>text</th>\n",
       "    </tr>\n",
       "  </thead>\n",
       "  <tbody>\n",
       "    <tr>\n",
       "      <th>0</th>\n",
       "      <td>2018-05-17 10:06:17</td>\n",
       "      <td>997055697735958529</td>\n",
       "      <td>NaN</td>\n",
       "      <td>RT @BTSVOTE_CHN: I am voting for @BTS_twt for ...</td>\n",
       "    </tr>\n",
       "    <tr>\n",
       "      <th>1</th>\n",
       "      <td>2018-05-17 10:06:17</td>\n",
       "      <td>997055698507878401</td>\n",
       "      <td>NaN</td>\n",
       "      <td>RT @ktaexx_: How to use 280 characters: LEGEND...</td>\n",
       "    </tr>\n",
       "    <tr>\n",
       "      <th>2</th>\n",
       "      <td>2018-05-17 10:06:17</td>\n",
       "      <td>997055698474172416</td>\n",
       "      <td>NaN</td>\n",
       "      <td>RT @bangstanmutuals: rt this to gain jungkook ...</td>\n",
       "    </tr>\n",
       "  </tbody>\n",
       "</table>\n",
       "</div>"
      ],
      "text/plain": [
       "            created_at              id_str  in_reply_to_user_id_str  \\\n",
       "0  2018-05-17 10:06:17  997055697735958529                      NaN   \n",
       "1  2018-05-17 10:06:17  997055698507878401                      NaN   \n",
       "2  2018-05-17 10:06:17  997055698474172416                      NaN   \n",
       "\n",
       "                                                text  \n",
       "0  RT @BTSVOTE_CHN: I am voting for @BTS_twt for ...  \n",
       "1  RT @ktaexx_: How to use 280 characters: LEGEND...  \n",
       "2  RT @bangstanmutuals: rt this to gain jungkook ...  "
      ]
     },
     "execution_count": 38,
     "metadata": {},
     "output_type": "execute_result"
    }
   ],
   "source": [
    "# läd Datei\n",
    "df_from_each_file = (pd.read_csv(f, header=None) for f in allFiles)\n",
    "\n",
    "concatenated_df   = pd.concat((df_from_each_file), ignore_index=True)\n",
    "concatenated_df.columns=['created_at','id_str','in_reply_to_user_id_str','text']\n",
    "concatenated_df.head(3)"
   ]
  },
  {
   "cell_type": "code",
   "execution_count": null,
   "metadata": {},
   "outputs": [],
   "source": [
    "# nur tweets mit Emoji\n",
    "\n",
    "concatenated_df.loc[concatenated_df['text'].isin(e for e in emoji.UNICODE_EMOJI)]"
   ]
  },
  {
   "cell_type": "code",
   "execution_count": 16,
   "metadata": {},
   "outputs": [],
   "source": []
  }
 ],
 "metadata": {
  "kernelspec": {
   "display_name": "Python 3",
   "language": "python",
   "name": "python3"
  },
  "language_info": {
   "codemirror_mode": {
    "name": "ipython",
    "version": 3
   },
   "file_extension": ".py",
   "mimetype": "text/x-python",
   "name": "python",
   "nbconvert_exporter": "python",
   "pygments_lexer": "ipython3",
   "version": "3.6.4"
  }
 },
 "nbformat": 4,
 "nbformat_minor": 2
}
