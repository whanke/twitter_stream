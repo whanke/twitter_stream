{
 "cells": [
  {
   "cell_type": "code",
   "execution_count": 17,
   "metadata": {},
   "outputs": [],
   "source": [
    "import emoji \n",
    "import csv\n",
    "import datetime\n",
    "import re\n",
    "from collections import Counter\n",
    "import timeit\n",
    "import os\n",
    "import glob\n",
    "import pandas as pd\n",
    "import matplotlib.pyplot as plt\n",
    "import numpy as np\n",
    "\n",
    "# Desktop\n",
    "#filepath = 'C:\\\\Users\\\\Wilm Hanke\\\\Documents\\\\GitHub\\\\twitter_stream\\\\tweet files\\\\concat_all_tweets.txt'\n",
    "\n",
    "# Mobile\n",
    "filepath = 'C:\\\\Users\\\\Wilm\\\\Documents\\\\GitHub\\\\twitter_stream\\\\tweet files\\\\concat_all_tweets.txt'"
   ]
  },
  {
   "cell_type": "code",
   "execution_count": null,
   "metadata": {},
   "outputs": [],
   "source": [
    "# merge all several tweet Files to one big file: 'concat_all_tweets.txt'\n",
    "\n",
    "# uncomment for safety reasons\n",
    "\n",
    "#allfiles = glob.iglob('C:\\\\Users\\\\Wilm Hanke\\\\Documents\\\\GitHub\\\\twitter_stream\\\\tweet files\\\\*.txt')\n",
    "\n",
    "\n",
    "\"\"\"\n",
    "for file in allfiles:\n",
    "    with open(file, 'r+', encoding = 'utf-8') as f:\n",
    "        with open('C:\\\\Users\\\\Wilm Hanke\\\\Documents\\\\GitHub\\\\twitter_stream\\\\tweet files\\\\concat_all_tweets.txt', 'a', encoding = 'utf-8') as f2:\n",
    "            for line in f:\n",
    "                if not line == '\\n':\n",
    "                    f2.write(line)\n",
    "\"\"\""
   ]
  },
  {
   "cell_type": "code",
   "execution_count": 18,
   "metadata": {
    "scrolled": true
   },
   "outputs": [],
   "source": [
    "# creating DataFrame\n",
    "\n",
    "df = pd.DataFrame(pd.read_csv(filepath, header = None, index_col = False))"
   ]
  },
  {
   "cell_type": "code",
   "execution_count": null,
   "metadata": {},
   "outputs": [],
   "source": [
    "df.info()"
   ]
  },
  {
   "cell_type": "code",
   "execution_count": 19,
   "metadata": {},
   "outputs": [],
   "source": [
    "df.columns=['created_at','id_str','in_reply_to_user_id_str','raw_text']\n",
    "\n",
    "# entfernt Spalte \"created_at\"\n",
    "df = df.drop(columns='created_at')"
   ]
  },
  {
   "cell_type": "code",
   "execution_count": 20,
   "metadata": {},
   "outputs": [
    {
     "data": {
      "text/html": [
       "<div>\n",
       "<style scoped>\n",
       "    .dataframe tbody tr th:only-of-type {\n",
       "        vertical-align: middle;\n",
       "    }\n",
       "\n",
       "    .dataframe tbody tr th {\n",
       "        vertical-align: top;\n",
       "    }\n",
       "\n",
       "    .dataframe thead th {\n",
       "        text-align: right;\n",
       "    }\n",
       "</style>\n",
       "<table border=\"1\" class=\"dataframe\">\n",
       "  <thead>\n",
       "    <tr style=\"text-align: right;\">\n",
       "      <th></th>\n",
       "      <th>id_str</th>\n",
       "      <th>in_reply_to_user_id_str</th>\n",
       "      <th>raw_text</th>\n",
       "    </tr>\n",
       "  </thead>\n",
       "  <tbody>\n",
       "    <tr>\n",
       "      <th>15</th>\n",
       "      <td>997055699308888064</td>\n",
       "      <td>NaN</td>\n",
       "      <td>TbhBESOK FAKE LOVE#iVoteBTSBBMAs @BTS_twt</td>\n",
       "    </tr>\n",
       "  </tbody>\n",
       "</table>\n",
       "</div>"
      ],
      "text/plain": [
       "                id_str  in_reply_to_user_id_str  \\\n",
       "15  997055699308888064                      NaN   \n",
       "\n",
       "                                     raw_text  \n",
       "15  TbhBESOK FAKE LOVE#iVoteBTSBBMAs @BTS_twt  "
      ]
     },
     "execution_count": 20,
     "metadata": {},
     "output_type": "execute_result"
    }
   ],
   "source": [
    "# drop tweets which startswith 'RT' --> get only original tweets, without Retweets\n",
    "\n",
    "df_filtered_by_RT = df[~df.raw_text.str.startswith('RT')]\n",
    "\n",
    "df_filtered_by_RT.head(1)"
   ]
  },
  {
   "cell_type": "code",
   "execution_count": 21,
   "metadata": {},
   "outputs": [],
   "source": [
    "def extract_chars(my_str):     \n",
    "    return ''.join([c for c in my_str if not(c in emoji.UNICODE_EMOJI)])\n",
    "\n",
    "def anonymize_username(my_str):\n",
    "    anonymized_text = ['@username' if x.startswith('@') else x for x in list(my_str.split())]\n",
    "    return ' '.join(anonymized_text)\n",
    "\n",
    "def anonymize_hashtag(my_str): # function not tested yet\n",
    "    return ' '.join(['#hashtag' if x.startswith('#') else x for x in list(my_str.split())])\n",
    "\n",
    "df_clean_text = df['raw_text'].apply(lambda x: extract_chars(x))"
   ]
  },
  {
   "cell_type": "code",
   "execution_count": 22,
   "metadata": {},
   "outputs": [],
   "source": [
    "def extract_emojis(my_str):\n",
    "    return ''.join(c for c in my_str if c in emoji.UNICODE_EMOJI)\n",
    "\n",
    "df_extr_emojis = df['raw_text'].apply(lambda x: extract_emojis(x))"
   ]
  },
  {
   "cell_type": "code",
   "execution_count": 23,
   "metadata": {},
   "outputs": [
    {
     "data": {
      "text/html": [
       "<div>\n",
       "<style scoped>\n",
       "    .dataframe tbody tr th:only-of-type {\n",
       "        vertical-align: middle;\n",
       "    }\n",
       "\n",
       "    .dataframe tbody tr th {\n",
       "        vertical-align: top;\n",
       "    }\n",
       "\n",
       "    .dataframe thead th {\n",
       "        text-align: right;\n",
       "    }\n",
       "</style>\n",
       "<table border=\"1\" class=\"dataframe\">\n",
       "  <thead>\n",
       "    <tr style=\"text-align: right;\">\n",
       "      <th></th>\n",
       "      <th>id_str</th>\n",
       "      <th>in_reply_to_user_id_str</th>\n",
       "      <th>raw_text</th>\n",
       "      <th>clean_text</th>\n",
       "      <th>extr_emojis</th>\n",
       "    </tr>\n",
       "  </thead>\n",
       "  <tbody>\n",
       "    <tr>\n",
       "      <th>15</th>\n",
       "      <td>997055699308888064</td>\n",
       "      <td>NaN</td>\n",
       "      <td>TbhBESOK FAKE LOVE#iVoteBTSBBMAs @BTS_twt</td>\n",
       "      <td>TbhBESOK FAKE LOVE#iVoteBTSBBMAs @BTS_twt</td>\n",
       "      <td></td>\n",
       "    </tr>\n",
       "    <tr>\n",
       "      <th>24</th>\n",
       "      <td>997055702848782336</td>\n",
       "      <td>NaN</td>\n",
       "      <td>#PremiosMTVMiaw #MTVBRKPOPBTS #MTVLAKPOPBTS #MTVLAFANARMYBTS @BTS_twt https://t.co/1nAL8KKoGB</td>\n",
       "      <td>#PremiosMTVMiaw #MTVBRKPOPBTS #MTVLAKPOPBTS #MTVLAFANARMYBTS @BTS_twt https://t.co/1nAL8KKoGB</td>\n",
       "      <td></td>\n",
       "    </tr>\n",
       "    <tr>\n",
       "      <th>50</th>\n",
       "      <td>997055707471003653</td>\n",
       "      <td>811958256.0</td>\n",
       "      <td>@lukewaltham @BTS_twt Thk u so much for join with INDONESIA ARMYI Purple You 💜BESOK FAKE LOVE#IVoteBTSBBMAs@BTS_twt</td>\n",
       "      <td>@lukewaltham @BTS_twt Thk u so much for join with INDONESIA ARMYI Purple You BESOK FAKE LOVE#IVoteBTSBBMAs@BTS_twt</td>\n",
       "      <td>💜</td>\n",
       "    </tr>\n",
       "    <tr>\n",
       "      <th>54</th>\n",
       "      <td>997055711459889153</td>\n",
       "      <td>NaN</td>\n",
       "      <td>I vote for @BTS_twt for the #IVoteBTSBBMAs Top social artist Award</td>\n",
       "      <td>I vote for @BTS_twt for the #IVoteBTSBBMAs Top social artist Award</td>\n",
       "      <td></td>\n",
       "    </tr>\n",
       "    <tr>\n",
       "      <th>68</th>\n",
       "      <td>997055710964998144</td>\n",
       "      <td>NaN</td>\n",
       "      <td>EU CREO QUE NO QUEDO TAN MAL KAOSKIDNW#IVoteBTSBBMAs @BTS_twt https://t.co/z7VPrnyB2S</td>\n",
       "      <td>EU CREO QUE NO QUEDO TAN MAL KAOSKIDNW#IVoteBTSBBMAs @BTS_twt https://t.co/z7VPrnyB2S</td>\n",
       "      <td></td>\n",
       "    </tr>\n",
       "  </tbody>\n",
       "</table>\n",
       "</div>"
      ],
      "text/plain": [
       "                id_str  in_reply_to_user_id_str  \\\n",
       "15  997055699308888064 NaN                        \n",
       "24  997055702848782336 NaN                        \n",
       "50  997055707471003653  811958256.0               \n",
       "54  997055711459889153 NaN                        \n",
       "68  997055710964998144 NaN                        \n",
       "\n",
       "                                                                                                               raw_text  \\\n",
       "15  TbhBESOK FAKE LOVE#iVoteBTSBBMAs @BTS_twt                                                                             \n",
       "24  #PremiosMTVMiaw #MTVBRKPOPBTS #MTVLAKPOPBTS #MTVLAFANARMYBTS @BTS_twt https://t.co/1nAL8KKoGB                         \n",
       "50  @lukewaltham @BTS_twt Thk u so much for join with INDONESIA ARMYI Purple You 💜BESOK FAKE LOVE#IVoteBTSBBMAs@BTS_twt   \n",
       "54  I vote for @BTS_twt for the #IVoteBTSBBMAs Top social artist Award                                                    \n",
       "68  EU CREO QUE NO QUEDO TAN MAL KAOSKIDNW#IVoteBTSBBMAs @BTS_twt https://t.co/z7VPrnyB2S                                 \n",
       "\n",
       "                                                                                                            clean_text  \\\n",
       "15  TbhBESOK FAKE LOVE#iVoteBTSBBMAs @BTS_twt                                                                            \n",
       "24  #PremiosMTVMiaw #MTVBRKPOPBTS #MTVLAKPOPBTS #MTVLAFANARMYBTS @BTS_twt https://t.co/1nAL8KKoGB                        \n",
       "50  @lukewaltham @BTS_twt Thk u so much for join with INDONESIA ARMYI Purple You BESOK FAKE LOVE#IVoteBTSBBMAs@BTS_twt   \n",
       "54  I vote for @BTS_twt for the #IVoteBTSBBMAs Top social artist Award                                                   \n",
       "68  EU CREO QUE NO QUEDO TAN MAL KAOSKIDNW#IVoteBTSBBMAs @BTS_twt https://t.co/z7VPrnyB2S                                \n",
       "\n",
       "   extr_emojis  \n",
       "15              \n",
       "24              \n",
       "50  💜           \n",
       "54              \n",
       "68              "
      ]
     },
     "execution_count": 23,
     "metadata": {},
     "output_type": "execute_result"
    }
   ],
   "source": [
    "# unhide the strings in jupyter notebook\n",
    "pd.options.display.max_rows\n",
    "pd.set_option('display.max_colwidth', -1)\n",
    "\n",
    "new_df = df_filtered_by_RT.assign(clean_text = df_clean_text, extr_emojis = df_extr_emojis)\n",
    "new_df.head()"
   ]
  },
  {
   "cell_type": "code",
   "execution_count": 24,
   "metadata": {},
   "outputs": [
    {
     "name": "stderr",
     "output_type": "stream",
     "text": [
      "c:\\users\\wilm\\appdata\\local\\programs\\python\\python36\\lib\\site-packages\\ipykernel_launcher.py:15: SettingWithCopyWarning: \n",
      "A value is trying to be set on a copy of a slice from a DataFrame.\n",
      "Try using .loc[row_indexer,col_indexer] = value instead\n",
      "\n",
      "See the caveats in the documentation: http://pandas.pydata.org/pandas-docs/stable/indexing.html#indexing-view-versus-copy\n",
      "  from ipykernel import kernelapp as app\n"
     ]
    },
    {
     "ename": "NameError",
     "evalue": "name 'df_noNaN_in_reply' is not defined",
     "output_type": "error",
     "traceback": [
      "\u001b[1;31m---------------------------------------------------------------------------\u001b[0m",
      "\u001b[1;31mNameError\u001b[0m                                 Traceback (most recent call last)",
      "\u001b[1;32m<ipython-input-24-f206ef8a97a6>\u001b[0m in \u001b[0;36m<module>\u001b[1;34m()\u001b[0m\n\u001b[0;32m     15\u001b[0m \u001b[0mdf_replies\u001b[0m\u001b[1;33m[\u001b[0m\u001b[1;34m'in_reply_to_user_id_str'\u001b[0m\u001b[1;33m]\u001b[0m \u001b[1;33m=\u001b[0m \u001b[0mdf_replies\u001b[0m\u001b[1;33m[\u001b[0m\u001b[1;34m'in_reply_to_user_id_str'\u001b[0m\u001b[1;33m]\u001b[0m\u001b[1;33m.\u001b[0m\u001b[0mastype\u001b[0m\u001b[1;33m(\u001b[0m\u001b[0mnp\u001b[0m\u001b[1;33m.\u001b[0m\u001b[0mint64\u001b[0m\u001b[1;33m)\u001b[0m\u001b[1;33m.\u001b[0m\u001b[0mabs\u001b[0m\u001b[1;33m(\u001b[0m\u001b[1;33m)\u001b[0m\u001b[1;33m\u001b[0m\u001b[0m\n\u001b[0;32m     16\u001b[0m \u001b[1;33m\u001b[0m\u001b[0m\n\u001b[1;32m---> 17\u001b[1;33m \u001b[0mdf_noNaN_in_reply\u001b[0m\u001b[1;33m.\u001b[0m\u001b[0mhead\u001b[0m\u001b[1;33m(\u001b[0m\u001b[1;33m)\u001b[0m\u001b[1;33m\u001b[0m\u001b[0m\n\u001b[0m",
      "\u001b[1;31mNameError\u001b[0m: name 'df_noNaN_in_reply' is not defined"
     ]
    }
   ],
   "source": [
    "# convert in_reply_to_user_id_str to type(int)\n",
    "\"\"\"####\n",
    "komplettes dataframe mit NaN in reply_id droppen\n",
    "datatypen converten \n",
    "neues df assignen\n",
    "####\n",
    "\n",
    "def convert_to_int(_num):\n",
    "    # einige values beginnen mit minus --> abs()\n",
    "    return new_df['in_reply_to_user_id_str'].dropna().astype(np.int64).abs()\n",
    "\n",
    "df_convert_to_int = new_df['in_reply_to_user_id_str'].apply(lambda x: convert_to_int(x))\n",
    "\"\"\"\n",
    "df_replies = new_df.dropna()\n",
    "df_replies['in_reply_to_user_id_str'] = df_replies['in_reply_to_user_id_str'].astype(np.int64).abs()\n",
    "\n",
    "df_noNaN_in_reply.head()"
   ]
  },
  {
   "cell_type": "code",
   "execution_count": 25,
   "metadata": {},
   "outputs": [
    {
     "data": {
      "text/html": [
       "<div>\n",
       "<style scoped>\n",
       "    .dataframe tbody tr th:only-of-type {\n",
       "        vertical-align: middle;\n",
       "    }\n",
       "\n",
       "    .dataframe tbody tr th {\n",
       "        vertical-align: top;\n",
       "    }\n",
       "\n",
       "    .dataframe thead th {\n",
       "        text-align: right;\n",
       "    }\n",
       "</style>\n",
       "<table border=\"1\" class=\"dataframe\">\n",
       "  <thead>\n",
       "    <tr style=\"text-align: right;\">\n",
       "      <th></th>\n",
       "      <th>id_str</th>\n",
       "      <th>in_reply_to_user_id_str</th>\n",
       "      <th>raw_text</th>\n",
       "      <th>clean_text</th>\n",
       "      <th>extr_emojis</th>\n",
       "    </tr>\n",
       "  </thead>\n",
       "  <tbody>\n",
       "    <tr>\n",
       "      <th>50</th>\n",
       "      <td>997055707471003653</td>\n",
       "      <td>8.119583e+08</td>\n",
       "      <td>@lukewaltham @BTS_twt Thk u so much for join with INDONESIA ARMYI Purple You 💜BESOK FAKE LOVE#IVoteBTSBBMAs@BTS_twt</td>\n",
       "      <td>@lukewaltham @BTS_twt Thk u so much for join with INDONESIA ARMYI Purple You BESOK FAKE LOVE#IVoteBTSBBMAs@BTS_twt</td>\n",
       "      <td>💜</td>\n",
       "    </tr>\n",
       "    <tr>\n",
       "      <th>80</th>\n",
       "      <td>997055716899934208</td>\n",
       "      <td>9.521749e+17</td>\n",
       "      <td>@Kookiexo_ @BTS_twt I’m doing both, not taking the risk 😬 #iVoteBTSBBMAs</td>\n",
       "      <td>@Kookiexo_ @BTS_twt I’m doing both, not taking the risk  #iVoteBTSBBMAs</td>\n",
       "      <td>😬</td>\n",
       "    </tr>\n",
       "    <tr>\n",
       "      <th>107</th>\n",
       "      <td>997055723958829056</td>\n",
       "      <td>NaN</td>\n",
       "      <td>My morning just got better ! 😍💜 @BTS_twt #iVoteBTSBBMAs https://t.co/EoJ83MA5Pz</td>\n",
       "      <td>My morning just got better !  @BTS_twt #iVoteBTSBBMAs https://t.co/EoJ83MA5Pz</td>\n",
       "      <td>😍💜</td>\n",
       "    </tr>\n",
       "    <tr>\n",
       "      <th>172</th>\n",
       "      <td>997055745181958144</td>\n",
       "      <td>NaN</td>\n",
       "      <td>noticed by:- John Legend ✅ - Shawn Mendes ✅- Hoshino Gen ✅- Gallant ✅Taehyung has achieved the ultimate fan… https://t.co/aN6Rc9MCE6</td>\n",
       "      <td>noticed by:- John Legend  - Shawn Mendes - Hoshino Gen - Gallant Taehyung has achieved the ultimate fan… https://t.co/aN6Rc9MCE6</td>\n",
       "      <td>✅✅✅✅</td>\n",
       "    </tr>\n",
       "    <tr>\n",
       "      <th>320</th>\n",
       "      <td>997055791323545603</td>\n",
       "      <td>NaN</td>\n",
       "      <td>Im so fuckin excitedddddddd only armys know😂😉#iVoteBTSBBMAs</td>\n",
       "      <td>Im so fuckin excitedddddddd only armys know#iVoteBTSBBMAs</td>\n",
       "      <td>😂😉</td>\n",
       "    </tr>\n",
       "  </tbody>\n",
       "</table>\n",
       "</div>"
      ],
      "text/plain": [
       "                 id_str  in_reply_to_user_id_str  \\\n",
       "50   997055707471003653  8.119583e+08              \n",
       "80   997055716899934208  9.521749e+17              \n",
       "107  997055723958829056 NaN                        \n",
       "172  997055745181958144 NaN                        \n",
       "320  997055791323545603 NaN                        \n",
       "\n",
       "                                                                                                                                 raw_text  \\\n",
       "50   @lukewaltham @BTS_twt Thk u so much for join with INDONESIA ARMYI Purple You 💜BESOK FAKE LOVE#IVoteBTSBBMAs@BTS_twt                    \n",
       "80   @Kookiexo_ @BTS_twt I’m doing both, not taking the risk 😬 #iVoteBTSBBMAs                                                               \n",
       "107  My morning just got better ! 😍💜 @BTS_twt #iVoteBTSBBMAs https://t.co/EoJ83MA5Pz                                                        \n",
       "172  noticed by:- John Legend ✅ - Shawn Mendes ✅- Hoshino Gen ✅- Gallant ✅Taehyung has achieved the ultimate fan… https://t.co/aN6Rc9MCE6   \n",
       "320  Im so fuckin excitedddddddd only armys know😂😉#iVoteBTSBBMAs                                                                            \n",
       "\n",
       "                                                                                                                           clean_text  \\\n",
       "50   @lukewaltham @BTS_twt Thk u so much for join with INDONESIA ARMYI Purple You BESOK FAKE LOVE#IVoteBTSBBMAs@BTS_twt                 \n",
       "80   @Kookiexo_ @BTS_twt I’m doing both, not taking the risk  #iVoteBTSBBMAs                                                            \n",
       "107  My morning just got better !  @BTS_twt #iVoteBTSBBMAs https://t.co/EoJ83MA5Pz                                                      \n",
       "172  noticed by:- John Legend  - Shawn Mendes - Hoshino Gen - Gallant Taehyung has achieved the ultimate fan… https://t.co/aN6Rc9MCE6   \n",
       "320  Im so fuckin excitedddddddd only armys know#iVoteBTSBBMAs                                                                          \n",
       "\n",
       "    extr_emojis  \n",
       "50   💜           \n",
       "80   😬           \n",
       "107  😍💜          \n",
       "172  ✅✅✅✅        \n",
       "320  😂😉          "
      ]
     },
     "execution_count": 25,
     "metadata": {},
     "output_type": "execute_result"
    }
   ],
   "source": [
    "# rows only with emoji\n",
    "\n",
    "new_df[new_df.extr_emojis != ''].head()"
   ]
  },
  {
   "cell_type": "code",
   "execution_count": 36,
   "metadata": {},
   "outputs": [
    {
     "data": {
      "text/plain": [
       "        3192511\n",
       "😂       15130  \n",
       "❤       8933   \n",
       "😂😂😂     6009   \n",
       "😍       5465   \n",
       "😂😂      5024   \n",
       "🤔       3645   \n",
       "😭       3596   \n",
       "🙏       2885   \n",
       "💜       2810   \n",
       "👍       2391   \n",
       "👇       2374   \n",
       "😊       2215   \n",
       "🔥       2188   \n",
       "🙄       2113   \n",
       "👀       2047   \n",
       "😂😂😂😂    2026   \n",
       "🙌       1923   \n",
       "😁       1921   \n",
       "😎       1885   \n",
       "Name: extr_emojis, dtype: int64"
      ]
     },
     "execution_count": 36,
     "metadata": {},
     "output_type": "execute_result"
    }
   ],
   "source": [
    "# zählen der emoji vorkommen\n",
    "new_df.extr_emojis.value_counts().head(20)"
   ]
  },
  {
   "cell_type": "code",
   "execution_count": 85,
   "metadata": {},
   "outputs": [
    {
     "data": {
      "text/plain": [
       "<matplotlib.axes._subplots.AxesSubplot at 0x23607a14208>"
      ]
     },
     "execution_count": 85,
     "metadata": {},
     "output_type": "execute_result"
    },
    {
     "data": {
      "image/png": "[encoded data removed]",
      "text/plain": [
       "<Figure size 432x288 with 1 Axes>"
      ]
     },
     "metadata": {},
     "output_type": "display_data"
    }
   ],
   "source": [
    "# vorkommen aller emoji\n",
    "new_df.extr_emojis.value_counts()[1:].head(20).plot.bar()"
   ]
  },
  {
   "cell_type": "code",
   "execution_count": 84,
   "metadata": {},
   "outputs": [
    {
     "data": {
      "text/plain": [
       "<matplotlib.axes._subplots.AxesSubplot at 0x23607a7b390>"
      ]
     },
     "execution_count": 84,
     "metadata": {},
     "output_type": "execute_result"
    },
    {
     "data": {
      "image/png": "[encoded data removed]",
      "text/plain": [
       "<Figure size 432x288 with 1 Axes>"
      ]
     },
     "metadata": {},
     "output_type": "display_data"
    }
   ],
   "source": [
    "# vorkommen von nur einzlnen emoji\n",
    "new_df['extr_emojis'][new_df['extr_emojis'].str.len() ==1].value_counts().head(20).plot.bar()"
   ]
  },
  {
   "cell_type": "code",
   "execution_count": 33,
   "metadata": {},
   "outputs": [
    {
     "data": {
      "text/plain": [
       "numpy.float64"
      ]
     },
     "execution_count": 33,
     "metadata": {},
     "output_type": "execute_result"
    }
   ],
   "source": [
    "# unhide the strings in jupyter notebook\n",
    "pd.options.display.max_rows\n",
    "pd.set_option('display.max_colwidth', -1)\n",
    "\n",
    "\n",
    "#new_df.clean_text[new_df['clean_text']==997055707471003653]\n",
    "type(df.iloc[15]['in_reply_to_user_id_str'])"
   ]
  },
  {
   "cell_type": "code",
   "execution_count": null,
   "metadata": {},
   "outputs": [],
   "source": [
    "Zipfsche Gesetz\n",
    "y-Achse = relative Worthäufigkeit bzw. Emojihäufigkeit\n",
    "x-Achse = Rang\n",
    "https://docs.scipy.org/doc/numpy/reference/generated/numpy.random.zipf.html"
   ]
  },
  {
   "cell_type": "code",
   "execution_count": null,
   "metadata": {},
   "outputs": [],
   "source": []
  },
  {
   "cell_type": "code",
   "execution_count": 13,
   "metadata": {},
   "outputs": [
    {
     "name": "stderr",
     "output_type": "stream",
     "text": [
      "c:\\users\\wilm\\appdata\\local\\programs\\python\\python36\\lib\\site-packages\\matplotlib\\axes\\_axes.py:6462: UserWarning: The 'normed' kwarg is deprecated, and has been replaced by the 'density' kwarg.\n",
      "  warnings.warn(\"The 'normed' kwarg is deprecated, and has been \"\n"
     ]
    },
    {
     "data": {
      "image/png": "[encoded data removed]",
      "text/plain": [
       "<Figure size 432x288 with 1 Axes>"
      ]
     },
     "metadata": {},
     "output_type": "display_data"
    }
   ],
   "source": [
    "# random example for Zipf law \n",
    "import matplotlib.pyplot as plt\n",
    "from scipy import special\n",
    "import numpy as np\n",
    "\n",
    "a = 2. # parameter\n",
    "s = np.random.zipf(a, 1000)\n",
    "\n",
    "count, bins, ignored = plt.hist(s[s<50], 50, normed = True)\n",
    "x = np.arange(1., 50.)\n",
    "y = x**(-a) / special.zetac(a)\n",
    "plt.plot(x, y/max(y), linewidth = 2, color = 'r')\n",
    "plt.show()"
   ]
  }
 ],
 "metadata": {
  "kernelspec": {
   "display_name": "Python 3",
   "language": "python",
   "name": "python3"
  },
  "language_info": {
   "codemirror_mode": {
    "name": "ipython",
    "version": 3
   },
   "file_extension": ".py",
   "mimetype": "text/x-python",
   "name": "python",
   "nbconvert_exporter": "python",
   "pygments_lexer": "ipython3",
   "version": "3.6.5"
  }
 },
 "nbformat": 4,
 "nbformat_minor": 2
}
