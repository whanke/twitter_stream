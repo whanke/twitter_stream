{
 "cells": [
  {
   "cell_type": "code",
   "execution_count": 1,
   "metadata": {},
   "outputs": [],
   "source": [
    "import emoji \n",
    "import csv\n",
    "import datetime\n",
    "import re\n",
    "from collections import Counter\n",
    "import timeit\n",
    "import os\n",
    "import glob\n",
    "import pandas as pd\n",
    "import matplotlib.pyplot as plt\n",
    "import numpy as np\n",
    "\n",
    "# Desktop\n",
    "#filepath = 'C:\\\\Users\\\\Wilm Hanke\\\\Documents\\\\GitHub\\\\twitter_stream\\\\tweet files\\\\concat_all_tweets.txt'\n",
    "\n",
    "# Mobile\n",
    "filepath = 'C:\\\\Users\\\\Wilm\\\\Documents\\\\GitHub\\\\twitter_stream\\\\tweet files\\\\concat_all_tweets.txt'"
   ]
  },
  {
   "cell_type": "code",
   "execution_count": null,
   "metadata": {},
   "outputs": [],
   "source": [
    "# merge all several tweet Files to one big file: 'concat_all_tweets.txt'\n",
    "\n",
    "# uncomment for safety reasons\n",
    "\n",
    "#allfiles = glob.iglob('C:\\\\Users\\\\Wilm Hanke\\\\Documents\\\\GitHub\\\\twitter_stream\\\\tweet files\\\\*.txt')\n",
    "\n",
    "\n",
    "\"\"\"\n",
    "for file in allfiles:\n",
    "    with open(file, 'r+', encoding = 'utf-8') as f:\n",
    "        with open('C:\\\\Users\\\\Wilm Hanke\\\\Documents\\\\GitHub\\\\twitter_stream\\\\tweet files\\\\concat_all_tweets.txt', 'a', encoding = 'utf-8') as f2:\n",
    "            for line in f:\n",
    "                if not line == '\\n':\n",
    "                    f2.write(line)\n",
    "\"\"\""
   ]
  },
  {
   "cell_type": "code",
   "execution_count": 2,
   "metadata": {
    "scrolled": true
   },
   "outputs": [],
   "source": [
    "# creating DataFrame\n",
    "\n",
    "df = pd.DataFrame(pd.read_csv(filepath, header = None, index_col = False))"
   ]
  },
  {
   "cell_type": "code",
   "execution_count": null,
   "metadata": {},
   "outputs": [],
   "source": [
    "df.info()"
   ]
  },
  {
   "cell_type": "code",
   "execution_count": 3,
   "metadata": {},
   "outputs": [],
   "source": [
    "df.columns=['created_at','id_str','in_reply_to_user_id_str','raw_text']\n",
    "\n",
    "# entfernt Spalte \"created_at\"\n",
    "df = df.drop(columns='created_at')"
   ]
  },
  {
   "cell_type": "code",
   "execution_count": 4,
   "metadata": {},
   "outputs": [
    {
     "data": {
      "text/html": [
       "<div>\n",
       "<style scoped>\n",
       "    .dataframe tbody tr th:only-of-type {\n",
       "        vertical-align: middle;\n",
       "    }\n",
       "\n",
       "    .dataframe tbody tr th {\n",
       "        vertical-align: top;\n",
       "    }\n",
       "\n",
       "    .dataframe thead th {\n",
       "        text-align: right;\n",
       "    }\n",
       "</style>\n",
       "<table border=\"1\" class=\"dataframe\">\n",
       "  <thead>\n",
       "    <tr style=\"text-align: right;\">\n",
       "      <th></th>\n",
       "      <th>id_str</th>\n",
       "      <th>in_reply_to_user_id_str</th>\n",
       "      <th>raw_text</th>\n",
       "    </tr>\n",
       "  </thead>\n",
       "  <tbody>\n",
       "    <tr>\n",
       "      <th>15</th>\n",
       "      <td>997055699308888064</td>\n",
       "      <td>NaN</td>\n",
       "      <td>TbhBESOK FAKE LOVE#iVoteBTSBBMAs @BTS_twt</td>\n",
       "    </tr>\n",
       "  </tbody>\n",
       "</table>\n",
       "</div>"
      ],
      "text/plain": [
       "                id_str  in_reply_to_user_id_str  \\\n",
       "15  997055699308888064                      NaN   \n",
       "\n",
       "                                     raw_text  \n",
       "15  TbhBESOK FAKE LOVE#iVoteBTSBBMAs @BTS_twt  "
      ]
     },
     "execution_count": 4,
     "metadata": {},
     "output_type": "execute_result"
    }
   ],
   "source": [
    "# drop tweets which startswith 'RT' --> get only original tweets, without Retweets\n",
    "\n",
    "df_filtered_by_RT = df[~df.raw_text.str.startswith('RT')]\n",
    "\n",
    "df_filtered_by_RT.head(1)"
   ]
  },
  {
   "cell_type": "code",
   "execution_count": 9,
   "metadata": {},
   "outputs": [],
   "source": [
    "def extract_chars(my_str):     \n",
    "    return ''.join([c for c in my_str if not(c in emoji.UNICODE_EMOJI)])\n",
    "\n",
    "def anonymize_username(my_str):\n",
    "    anonymized_text = ['@username' if x.startswith('@') else x for x in list(my_str.split())]\n",
    "    return ' '.join(anonymized_text)\n",
    "\n",
    "def anonymize_hashtag(my_str): \n",
    "    return ' '.join(['#hashtag' if x.startswith('#') else x for x in list(my_str.split())])\n",
    "\n",
    "def delete_links(my_str): \n",
    "    return ' '.join(['' if x.startswith('https') else x for x in list(my_str.split())])\n",
    "# to do: hashtags und links entfernen\n",
    "\n",
    "df_clean_text = df['raw_text'].apply(lambda x: delete_links(anonymize_hashtag(anonymize_username(extract_chars(x)))))"
   ]
  },
  {
   "cell_type": "code",
   "execution_count": 10,
   "metadata": {},
   "outputs": [],
   "source": [
    "def extract_emojis(my_str):\n",
    "    return ''.join(c for c in my_str if c in emoji.UNICODE_EMOJI)\n",
    "\n",
    "df_extr_emojis = df['raw_text'].apply(lambda x: extract_emojis(x))"
   ]
  },
  {
   "cell_type": "code",
   "execution_count": 11,
   "metadata": {},
   "outputs": [
    {
     "data": {
      "text/html": [
       "<div>\n",
       "<style scoped>\n",
       "    .dataframe tbody tr th:only-of-type {\n",
       "        vertical-align: middle;\n",
       "    }\n",
       "\n",
       "    .dataframe tbody tr th {\n",
       "        vertical-align: top;\n",
       "    }\n",
       "\n",
       "    .dataframe thead th {\n",
       "        text-align: right;\n",
       "    }\n",
       "</style>\n",
       "<table border=\"1\" class=\"dataframe\">\n",
       "  <thead>\n",
       "    <tr style=\"text-align: right;\">\n",
       "      <th></th>\n",
       "      <th>id_str</th>\n",
       "      <th>in_reply_to_user_id_str</th>\n",
       "      <th>raw_text</th>\n",
       "      <th>clean_text</th>\n",
       "      <th>extr_emojis</th>\n",
       "    </tr>\n",
       "  </thead>\n",
       "  <tbody>\n",
       "    <tr>\n",
       "      <th>15</th>\n",
       "      <td>997055699308888064</td>\n",
       "      <td>NaN</td>\n",
       "      <td>TbhBESOK FAKE LOVE#iVoteBTSBBMAs @BTS_twt</td>\n",
       "      <td>TbhBESOK FAKE LOVE#iVoteBTSBBMAs @username</td>\n",
       "      <td></td>\n",
       "    </tr>\n",
       "    <tr>\n",
       "      <th>24</th>\n",
       "      <td>997055702848782336</td>\n",
       "      <td>NaN</td>\n",
       "      <td>#PremiosMTVMiaw #MTVBRKPOPBTS #MTVLAKPOPBTS #MTVLAFANARMYBTS @BTS_twt https://t.co/1nAL8KKoGB</td>\n",
       "      <td>#hashtag #hashtag #hashtag #hashtag @username</td>\n",
       "      <td></td>\n",
       "    </tr>\n",
       "    <tr>\n",
       "      <th>50</th>\n",
       "      <td>997055707471003653</td>\n",
       "      <td>811958256.0</td>\n",
       "      <td>@lukewaltham @BTS_twt Thk u so much for join with INDONESIA ARMYI Purple You 💜BESOK FAKE LOVE#IVoteBTSBBMAs@BTS_twt</td>\n",
       "      <td>@username @username Thk u so much for join with INDONESIA ARMYI Purple You BESOK FAKE LOVE#IVoteBTSBBMAs@BTS_twt</td>\n",
       "      <td>💜</td>\n",
       "    </tr>\n",
       "    <tr>\n",
       "      <th>54</th>\n",
       "      <td>997055711459889153</td>\n",
       "      <td>NaN</td>\n",
       "      <td>I vote for @BTS_twt for the #IVoteBTSBBMAs Top social artist Award</td>\n",
       "      <td>I vote for @username for the #hashtag Top social artist Award</td>\n",
       "      <td></td>\n",
       "    </tr>\n",
       "    <tr>\n",
       "      <th>68</th>\n",
       "      <td>997055710964998144</td>\n",
       "      <td>NaN</td>\n",
       "      <td>EU CREO QUE NO QUEDO TAN MAL KAOSKIDNW#IVoteBTSBBMAs @BTS_twt https://t.co/z7VPrnyB2S</td>\n",
       "      <td>EU CREO QUE NO QUEDO TAN MAL KAOSKIDNW#IVoteBTSBBMAs @username</td>\n",
       "      <td></td>\n",
       "    </tr>\n",
       "  </tbody>\n",
       "</table>\n",
       "</div>"
      ],
      "text/plain": [
       "                id_str  in_reply_to_user_id_str  \\\n",
       "15  997055699308888064 NaN                        \n",
       "24  997055702848782336 NaN                        \n",
       "50  997055707471003653  811958256.0               \n",
       "54  997055711459889153 NaN                        \n",
       "68  997055710964998144 NaN                        \n",
       "\n",
       "                                                                                                               raw_text  \\\n",
       "15  TbhBESOK FAKE LOVE#iVoteBTSBBMAs @BTS_twt                                                                             \n",
       "24  #PremiosMTVMiaw #MTVBRKPOPBTS #MTVLAKPOPBTS #MTVLAFANARMYBTS @BTS_twt https://t.co/1nAL8KKoGB                         \n",
       "50  @lukewaltham @BTS_twt Thk u so much for join with INDONESIA ARMYI Purple You 💜BESOK FAKE LOVE#IVoteBTSBBMAs@BTS_twt   \n",
       "54  I vote for @BTS_twt for the #IVoteBTSBBMAs Top social artist Award                                                    \n",
       "68  EU CREO QUE NO QUEDO TAN MAL KAOSKIDNW#IVoteBTSBBMAs @BTS_twt https://t.co/z7VPrnyB2S                                 \n",
       "\n",
       "                                                                                                          clean_text  \\\n",
       "15  TbhBESOK FAKE LOVE#iVoteBTSBBMAs @username                                                                         \n",
       "24  #hashtag #hashtag #hashtag #hashtag @username                                                                      \n",
       "50  @username @username Thk u so much for join with INDONESIA ARMYI Purple You BESOK FAKE LOVE#IVoteBTSBBMAs@BTS_twt   \n",
       "54  I vote for @username for the #hashtag Top social artist Award                                                      \n",
       "68  EU CREO QUE NO QUEDO TAN MAL KAOSKIDNW#IVoteBTSBBMAs @username                                                     \n",
       "\n",
       "   extr_emojis  \n",
       "15              \n",
       "24              \n",
       "50  💜           \n",
       "54              \n",
       "68              "
      ]
     },
     "execution_count": 11,
     "metadata": {},
     "output_type": "execute_result"
    }
   ],
   "source": [
    "# unhide the strings in jupyter notebook\n",
    "pd.options.display.max_rows\n",
    "pd.set_option('display.max_colwidth', -1)\n",
    "\n",
    "new_df = df_filtered_by_RT.assign(clean_text = df_clean_text, extr_emojis = df_extr_emojis)\n",
    "new_df.head()"
   ]
  },
  {
   "cell_type": "code",
   "execution_count": 12,
   "metadata": {},
   "outputs": [
    {
     "data": {
      "text/html": [
       "<div>\n",
       "<style scoped>\n",
       "    .dataframe tbody tr th:only-of-type {\n",
       "        vertical-align: middle;\n",
       "    }\n",
       "\n",
       "    .dataframe tbody tr th {\n",
       "        vertical-align: top;\n",
       "    }\n",
       "\n",
       "    .dataframe thead th {\n",
       "        text-align: right;\n",
       "    }\n",
       "</style>\n",
       "<table border=\"1\" class=\"dataframe\">\n",
       "  <thead>\n",
       "    <tr style=\"text-align: right;\">\n",
       "      <th></th>\n",
       "      <th>id_str</th>\n",
       "      <th>in_reply_to_user_id_str</th>\n",
       "      <th>raw_text</th>\n",
       "      <th>clean_text</th>\n",
       "      <th>extr_emojis</th>\n",
       "    </tr>\n",
       "  </thead>\n",
       "  <tbody>\n",
       "    <tr>\n",
       "      <th>50</th>\n",
       "      <td>997055707471003653</td>\n",
       "      <td>8.119583e+08</td>\n",
       "      <td>@lukewaltham @BTS_twt Thk u so much for join with INDONESIA ARMYI Purple You 💜BESOK FAKE LOVE#IVoteBTSBBMAs@BTS_twt</td>\n",
       "      <td>@username @username Thk u so much for join with INDONESIA ARMYI Purple You BESOK FAKE LOVE#IVoteBTSBBMAs@BTS_twt</td>\n",
       "      <td>💜</td>\n",
       "    </tr>\n",
       "    <tr>\n",
       "      <th>80</th>\n",
       "      <td>997055716899934208</td>\n",
       "      <td>9.521749e+17</td>\n",
       "      <td>@Kookiexo_ @BTS_twt I’m doing both, not taking the risk 😬 #iVoteBTSBBMAs</td>\n",
       "      <td>@username @username I’m doing both, not taking the risk #hashtag</td>\n",
       "      <td>😬</td>\n",
       "    </tr>\n",
       "    <tr>\n",
       "      <th>107</th>\n",
       "      <td>997055723958829056</td>\n",
       "      <td>NaN</td>\n",
       "      <td>My morning just got better ! 😍💜 @BTS_twt #iVoteBTSBBMAs https://t.co/EoJ83MA5Pz</td>\n",
       "      <td>My morning just got better ! @username #hashtag</td>\n",
       "      <td>😍💜</td>\n",
       "    </tr>\n",
       "    <tr>\n",
       "      <th>172</th>\n",
       "      <td>997055745181958144</td>\n",
       "      <td>NaN</td>\n",
       "      <td>noticed by:- John Legend ✅ - Shawn Mendes ✅- Hoshino Gen ✅- Gallant ✅Taehyung has achieved the ultimate fan… https://t.co/aN6Rc9MCE6</td>\n",
       "      <td>noticed by:- John Legend - Shawn Mendes - Hoshino Gen - Gallant Taehyung has achieved the ultimate fan…</td>\n",
       "      <td>✅✅✅✅</td>\n",
       "    </tr>\n",
       "    <tr>\n",
       "      <th>320</th>\n",
       "      <td>997055791323545603</td>\n",
       "      <td>NaN</td>\n",
       "      <td>Im so fuckin excitedddddddd only armys know😂😉#iVoteBTSBBMAs</td>\n",
       "      <td>Im so fuckin excitedddddddd only armys know#iVoteBTSBBMAs</td>\n",
       "      <td>😂😉</td>\n",
       "    </tr>\n",
       "  </tbody>\n",
       "</table>\n",
       "</div>"
      ],
      "text/plain": [
       "                 id_str  in_reply_to_user_id_str  \\\n",
       "50   997055707471003653  8.119583e+08              \n",
       "80   997055716899934208  9.521749e+17              \n",
       "107  997055723958829056 NaN                        \n",
       "172  997055745181958144 NaN                        \n",
       "320  997055791323545603 NaN                        \n",
       "\n",
       "                                                                                                                                 raw_text  \\\n",
       "50   @lukewaltham @BTS_twt Thk u so much for join with INDONESIA ARMYI Purple You 💜BESOK FAKE LOVE#IVoteBTSBBMAs@BTS_twt                    \n",
       "80   @Kookiexo_ @BTS_twt I’m doing both, not taking the risk 😬 #iVoteBTSBBMAs                                                               \n",
       "107  My morning just got better ! 😍💜 @BTS_twt #iVoteBTSBBMAs https://t.co/EoJ83MA5Pz                                                        \n",
       "172  noticed by:- John Legend ✅ - Shawn Mendes ✅- Hoshino Gen ✅- Gallant ✅Taehyung has achieved the ultimate fan… https://t.co/aN6Rc9MCE6   \n",
       "320  Im so fuckin excitedddddddd only armys know😂😉#iVoteBTSBBMAs                                                                            \n",
       "\n",
       "                                                                                                           clean_text  \\\n",
       "50   @username @username Thk u so much for join with INDONESIA ARMYI Purple You BESOK FAKE LOVE#IVoteBTSBBMAs@BTS_twt   \n",
       "80   @username @username I’m doing both, not taking the risk #hashtag                                                   \n",
       "107  My morning just got better ! @username #hashtag                                                                    \n",
       "172  noticed by:- John Legend - Shawn Mendes - Hoshino Gen - Gallant Taehyung has achieved the ultimate fan…            \n",
       "320  Im so fuckin excitedddddddd only armys know#iVoteBTSBBMAs                                                          \n",
       "\n",
       "    extr_emojis  \n",
       "50   💜           \n",
       "80   😬           \n",
       "107  😍💜          \n",
       "172  ✅✅✅✅        \n",
       "320  😂😉          "
      ]
     },
     "execution_count": 12,
     "metadata": {},
     "output_type": "execute_result"
    }
   ],
   "source": [
    "# rows only with emoji\n",
    "\n",
    "df_emoji_rows = new_df[new_df.extr_emojis != '']\n",
    "df_emoji_rows.head()"
   ]
  },
  {
   "cell_type": "code",
   "execution_count": 10,
   "metadata": {},
   "outputs": [
    {
     "data": {
      "text/plain": [
       "😂       15130\n",
       "❤       8933 \n",
       "😂😂😂     6009 \n",
       "😍       5465 \n",
       "😂😂      5024 \n",
       "🤔       3645 \n",
       "😭       3596 \n",
       "🙏       2885 \n",
       "💜       2810 \n",
       "👍       2391 \n",
       "👇       2374 \n",
       "😊       2215 \n",
       "🔥       2188 \n",
       "🙄       2113 \n",
       "👀       2047 \n",
       "😂😂😂😂    2026 \n",
       "🙌       1923 \n",
       "😁       1921 \n",
       "😎       1885 \n",
       "🤣       1861 \n",
       "Name: extr_emojis, dtype: int64"
      ]
     },
     "execution_count": 10,
     "metadata": {},
     "output_type": "execute_result"
    }
   ],
   "source": [
    "# zählen der emoji vorkommen\n",
    "df_emoji_rows.extr_emojis.value_counts().head(20)"
   ]
  },
  {
   "cell_type": "code",
   "execution_count": 12,
   "metadata": {},
   "outputs": [
    {
     "data": {
      "text/plain": [
       "<matplotlib.axes._subplots.AxesSubplot at 0x1ad1adb4940>"
      ]
     },
     "execution_count": 12,
     "metadata": {},
     "output_type": "execute_result"
    },
    {
     "data": {
      "image/png": "[encoded data removed]",
      "text/plain": [
       "<Figure size 432x288 with 1 Axes>"
      ]
     },
     "metadata": {},
     "output_type": "display_data"
    }
   ],
   "source": [
    "# vorkommen aller emoji\n",
    "df_emoji_rows.extr_emojis.value_counts().head(20).plot.bar()"
   ]
  },
  {
   "cell_type": "code",
   "execution_count": 84,
   "metadata": {},
   "outputs": [
    {
     "data": {
      "text/plain": [
       "<matplotlib.axes._subplots.AxesSubplot at 0x23607a7b390>"
      ]
     },
     "execution_count": 84,
     "metadata": {},
     "output_type": "execute_result"
    },
    {
     "data": {
      "image/png": "[encoded data removed]",
      "text/plain": [
       "<Figure size 432x288 with 1 Axes>"
      ]
     },
     "metadata": {},
     "output_type": "display_data"
    }
   ],
   "source": [
    "# vorkommen von nur einzelnen emoji\n",
    "df_emoji_rows['extr_emojis'][df_emoji_rows['extr_emojis'].str.len() == 1].value_counts().head(20).plot.bar()"
   ]
  },
  {
   "cell_type": "code",
   "execution_count": 33,
   "metadata": {},
   "outputs": [
    {
     "data": {
      "text/plain": [
       "numpy.float64"
      ]
     },
     "execution_count": 33,
     "metadata": {},
     "output_type": "execute_result"
    }
   ],
   "source": [
    "### unhide the strings in jupyter notebook\n",
    "pd.options.display.max_rows\n",
    "pd.set_option('display.max_colwidth', -1)\n",
    "\n",
    "\n",
    "#new_df.clean_text[new_df['clean_text']==997055707471003653]\n",
    "type(df.iloc[15]['in_reply_to_user_id_str'])"
   ]
  },
  {
   "cell_type": "code",
   "execution_count": null,
   "metadata": {},
   "outputs": [],
   "source": [
    "Zipfsche Gesetz\n",
    "y-Achse = relative Worthäufigkeit bzw. Emojihäufigkeit\n",
    "x-Achse = Rang\n",
    "https://docs.scipy.org/doc/numpy/reference/generated/numpy.random.zipf.html"
   ]
  },
  {
   "cell_type": "code",
   "execution_count": 23,
   "metadata": {},
   "outputs": [
    {
     "name": "stderr",
     "output_type": "stream",
     "text": [
      "c:\\users\\wilm\\appdata\\local\\programs\\python\\python36\\lib\\site-packages\\ipykernel_launcher.py:4: SettingWithCopyWarning: \n",
      "A value is trying to be set on a copy of a slice from a DataFrame.\n",
      "Try using .loc[row_indexer,col_indexer] = value instead\n",
      "\n",
      "See the caveats in the documentation: http://pandas.pydata.org/pandas-docs/stable/indexing.html#indexing-view-versus-copy\n",
      "  after removing the cwd from sys.path.\n"
     ]
    }
   ],
   "source": [
    "# test/WIP: find a response to an initial tweet\n",
    "df_initial_tweets = df_emoji_rows[df_emoji_rows['in_reply_to_user_id_str'].isnull()] # tweets without reply_id\n",
    "df_response_tweets = df_emoji_rows[~df_emoji_rows['in_reply_to_user_id_str'].isnull()] # tweets with reply_id\n",
    "df_response_tweets['in_reply_to_user_id_str'] = df_response_tweets['in_reply_to_user_id_str'].astype(np.int64)\n",
    "\n",
    "for id_str in df_initial_tweets['id_str']:\n",
    "    for re_id in df_response_tweets['in_reply_to_user_id_str'].head(200):\n",
    "        if id_str == re_id:\n",
    "            print('found a match')\n",
    "# id_str type= int\n",
    "# in_reply_to_user_id_str type = float\n"
   ]
  },
  {
   "cell_type": "code",
   "execution_count": 12,
   "metadata": {},
   "outputs": [
    {
     "name": "stderr",
     "output_type": "stream",
     "text": [
      "c:\\users\\wilm\\appdata\\local\\programs\\python\\python36\\lib\\site-packages\\ipykernel_launcher.py:10: SettingWithCopyWarning: \n",
      "A value is trying to be set on a copy of a slice from a DataFrame.\n",
      "Try using .loc[row_indexer,col_indexer] = value instead\n",
      "\n",
      "See the caveats in the documentation: http://pandas.pydata.org/pandas-docs/stable/indexing.html#indexing-view-versus-copy\n",
      "  # Remove the CWD from sys.path while we load stuff.\n"
     ]
    },
    {
     "ename": "ValueError",
     "evalue": "invalid literal for int() with base 10: 'My morning just got better !  @BTS_twt #iVoteBTSBBMAs https://t.co/EoJ83MA5Pz'",
     "output_type": "error",
     "traceback": [
      "\u001b[1;31m---------------------------------------------------------------------------\u001b[0m",
      "\u001b[1;31mValueError\u001b[0m                                Traceback (most recent call last)",
      "\u001b[1;32m<ipython-input-12-fb310b5c379b>\u001b[0m in \u001b[0;36m<module>\u001b[1;34m()\u001b[0m\n\u001b[0;32m     17\u001b[0m     \u001b[0mresponse_tweet_list\u001b[0m \u001b[1;33m=\u001b[0m \u001b[1;33m[\u001b[0m\u001b[0mx\u001b[0m\u001b[1;33m.\u001b[0m\u001b[0mstrip\u001b[0m\u001b[1;33m(\u001b[0m\u001b[1;33m)\u001b[0m \u001b[1;32mfor\u001b[0m \u001b[0mx\u001b[0m \u001b[1;32min\u001b[0m \u001b[0mrow\u001b[0m\u001b[1;33m[\u001b[0m\u001b[1;34m'clean_text'\u001b[0m\u001b[1;33m]\u001b[0m\u001b[1;33m.\u001b[0m\u001b[0msplit\u001b[0m\u001b[1;33m(\u001b[0m\u001b[1;34m','\u001b[0m\u001b[1;33m)\u001b[0m\u001b[1;33m]\u001b[0m\u001b[1;33m\u001b[0m\u001b[0m\n\u001b[0;32m     18\u001b[0m     \u001b[1;32mfor\u001b[0m \u001b[0mresponse_tweet_id\u001b[0m \u001b[1;32min\u001b[0m \u001b[0mresponse_tweet_list\u001b[0m\u001b[1;33m:\u001b[0m\u001b[1;33m\u001b[0m\u001b[0m\n\u001b[1;32m---> 19\u001b[1;33m         \u001b[0mresponse_tweet_id\u001b[0m \u001b[1;33m=\u001b[0m \u001b[0mint\u001b[0m\u001b[1;33m(\u001b[0m\u001b[0mresponse_tweet_id\u001b[0m\u001b[1;33m)\u001b[0m\u001b[1;33m\u001b[0m\u001b[0m\n\u001b[0m\u001b[0;32m     20\u001b[0m         \u001b[1;32mif\u001b[0m \u001b[0mlen\u001b[0m\u001b[1;33m(\u001b[0m\u001b[0mresponse_tweet_list\u001b[0m\u001b[1;33m)\u001b[0m \u001b[1;33m==\u001b[0m \u001b[1;36m1\u001b[0m\u001b[1;33m:\u001b[0m \u001b[1;31m# conversation besteht lediglich aus zwei aussagen (initaler und antwortender tweet)\u001b[0m\u001b[1;33m\u001b[0m\u001b[0m\n\u001b[0;32m     21\u001b[0m         \u001b[1;31m#print('response_tweet_id: ', response_tweet_id, type(response_tweet_id))\u001b[0m\u001b[1;33m\u001b[0m\u001b[1;33m\u001b[0m\u001b[0m\n",
      "\u001b[1;31mValueError\u001b[0m: invalid literal for int() with base 10: 'My morning just got better !  @BTS_twt #iVoteBTSBBMAs https://t.co/EoJ83MA5Pz'"
     ]
    }
   ],
   "source": [
    "### Conversations zusammenstellen\n",
    "# finding all tweets that response to an initial tweet\n",
    "# Conversation = initial_tweet & reply_tweet\n",
    "\n",
    "\n",
    "df_initial_tweets = df_emoji_rows[df_emoji_rows['in_reply_to_user_id_str'].isnull()] # tweets without reply_id\n",
    "df_response_tweets = df_emoji_rows[~df_emoji_rows['in_reply_to_user_id_str'].isnull()] # tweets with reply_id\n",
    "\n",
    "# transform datatype in \"in_reply_to_user_id_str\" from numpy.float64 to np.int64\n",
    "df_response_tweets['in_reply_to_user_id_str'] = df_response_tweets['in_reply_to_user_id_str'].astype(np.int64)\n",
    "\n",
    "\n",
    "dialogues_1vs1 = []\n",
    "    \n",
    "for index, row in df_initial_tweets.head().iterrows():\n",
    "    #print(row['clean_text'])\n",
    "    response_tweet_list = [x.strip() for x in row['clean_text'].split(',')]\n",
    "    for response_tweet_id in response_tweet_list:\n",
    "        response_tweet_id = int(response_tweet_id)\n",
    "        if len(response_tweet_list) == 1: # conversation besteht lediglich aus zwei aussagen (initaler und antwortender tweet)\n",
    "        #print('response_tweet_id: ', response_tweet_id, type(response_tweet_id))\n",
    "            for tweet_id in df_initial_tweets['id_str']:\n",
    "                #print('tweet_id: ', tweet_id, type(tweet_id))\n",
    "                if response_tweet_id == tweet_id: \n",
    "                    #print('\\nConversation\\n')\n",
    "                    #print('initial_tweet')\n",
    "                    #print(row['tweet_id'], row['text'])\n",
    "                    #print(row['text'])\n",
    "                    initial_tweet = row['raw_text']\n",
    "\n",
    "                    #print('response_tweet')\n",
    "                    response_tweet = df_response_tweets.loc[df_response_tweets['id_str']== response_tweet_id]['text']\n",
    "                    #print(response_tweet.values[0])\n",
    "                    response_tweet = df_response_tweets.loc[df_response_tweets['id_str']== response_tweet_id]['text']\n",
    "                    dialogues_1vs1.append([initial_tweet, response_tweet.values[0]])\n",
    "print('done')"
   ]
  },
  {
   "cell_type": "code",
   "execution_count": null,
   "metadata": {},
   "outputs": [],
   "source": [
    "### quantitative Analyse von Abhängigkeiten\n",
    "# bei gegebenen emoji im initial Tweet, welche top 3 emoji im reply Tweet folgen?\n",
    "# x Achse: relative Frequenz von reply-tweet-emoji (Top 5)\n",
    "# y Achse: initial-tweet-emoji sortiert nach Häufigkeit (häufigster emoji links) (insgesamt Top 5 emoji)"
   ]
  },
  {
   "cell_type": "code",
   "execution_count": 21,
   "metadata": {},
   "outputs": [
    {
     "data": {
      "image/png": "[encoded data removed]",
      "text/plain": [
       "<Figure size 432x288 with 1 Axes>"
      ]
     },
     "metadata": {},
     "output_type": "display_data"
    }
   ],
   "source": [
    "### Spielwiese\n",
    "\n",
    "# libraries\n",
    "import numpy as np\n",
    "import matplotlib.pyplot as plt\n",
    " \n",
    "# set width of bar\n",
    "barWidth = 0.25\n",
    " \n",
    "# set height of bar\n",
    "bars1 = [12, 30, 1, 8, 22]\n",
    "bars2 = [28, 6, 16, 5, 10]\n",
    "bars3 = [29, 3, 24, 25, 17]\n",
    " \n",
    "# Set position of bar on X axis\n",
    "r1 = np.arange(len(bars1))\n",
    "r2 = [x + barWidth for x in r1]\n",
    "r3 = [x + barWidth for x in r2]\n",
    " \n",
    "# Make the plot\n",
    "plt.bar(r1, bars1, color='#7f6d5f', width=barWidth, edgecolor='white', label='var1')\n",
    "plt.bar(r2, bars2, color='#557f2d', width=barWidth, edgecolor='white', label='var2')\n",
    "plt.bar(r3, bars3, color='#2d7f5e', width=barWidth, edgecolor='white', label='var3')\n",
    " \n",
    "# Add xticks on the middle of the group bars\n",
    "plt.xlabel('TOP 5 Emoji', fontweight='bold')\n",
    "plt.ylabel('Anzahl', fontweight = 'bold')\n",
    "plt.xticks([r + barWidth for r in range(len(bars1))], ['😂', 'B', 'C', 'D', 'E'])\n",
    " \n",
    "# Create legend & Show graphic\n",
    "plt.legend()\n",
    "plt.show()\n"
   ]
  }
 ],
 "metadata": {
  "kernelspec": {
   "display_name": "Python 3",
   "language": "python",
   "name": "python3"
  },
  "language_info": {
   "codemirror_mode": {
    "name": "ipython",
    "version": 3
   },
   "file_extension": ".py",
   "mimetype": "text/x-python",
   "name": "python",
   "nbconvert_exporter": "python",
   "pygments_lexer": "ipython3",
   "version": "3.6.5"
  }
 },
 "nbformat": 4,
 "nbformat_minor": 2
}
