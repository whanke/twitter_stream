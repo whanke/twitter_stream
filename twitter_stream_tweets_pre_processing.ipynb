{
 "cells": [
  {
   "cell_type": "code",
   "execution_count": 1,
   "metadata": {},
   "outputs": [],
   "source": [
    "import emoji \n",
    "import csv\n",
    "import datetime\n",
    "import re\n",
    "from collections import Counter\n",
    "import timeit\n",
    "import os\n",
    "import glob\n",
    "import pandas as pd\n",
    "import matplotlib.pyplot as plt\n",
    "import numpy as np\n",
    "\n",
    "# Desktop\n",
    "filepath = 'C:\\\\Users\\\\Wilm Hanke\\\\Documents\\\\GitHub\\\\twitter_stream\\\\tweet_files\\\\concat_all_tweets.txt'\n",
    "\n",
    "# Mobile\n",
    "#filepath = 'C:\\\\Users\\\\Wilm\\\\Documents\\\\GitHub\\\\twitter_stream\\\\tweet files\\\\concat_all_tweets.txt'"
   ]
  },
  {
   "cell_type": "code",
   "execution_count": 4,
   "metadata": {},
   "outputs": [],
   "source": [
    "# merge all several tweet Files to one big file: 'concat_all_tweets.txt'\n",
    "\n",
    "# uncomment for safety reasons\n",
    "\n",
    "\"\"\"\n",
    "allfiles = glob.iglob('C:\\\\Users\\\\Wilm Hanke\\\\Documents\\\\GitHub\\\\twitter_stream\\\\tweet_files\\\\*.txt')\n",
    "\n",
    "\n",
    "for file in allfiles:\n",
    "    with open(file, 'r+', encoding = 'utf-8') as f:\n",
    "        with open('C:\\\\Users\\\\Wilm Hanke\\\\Documents\\\\GitHub\\\\twitter_stream\\\\tweet_files\\\\concat_all_tweets.txt', 'a', encoding = 'utf-8') as f2:\n",
    "            for line in f:\n",
    "                if not line == '\\n':\n",
    "                    f2.write(line)\n",
    "\"\"\""
   ]
  },
  {
   "cell_type": "code",
   "execution_count": 2,
   "metadata": {
    "scrolled": true
   },
   "outputs": [],
   "source": [
    "# creating DataFrame\n",
    "\n",
    "df = pd.DataFrame(pd.read_csv(filepath, header = None, index_col = False))"
   ]
  },
  {
   "cell_type": "code",
   "execution_count": 3,
   "metadata": {},
   "outputs": [
    {
     "name": "stdout",
     "output_type": "stream",
     "text": [
      "<class 'pandas.core.frame.DataFrame'>\n",
      "RangeIndex: 2775023 entries, 0 to 2775022\n",
      "Data columns (total 4 columns):\n",
      "0    object\n",
      "1    int64\n",
      "2    float64\n",
      "3    object\n",
      "dtypes: float64(1), int64(1), object(2)\n",
      "memory usage: 84.7+ MB\n"
     ]
    }
   ],
   "source": [
    "df.info()"
   ]
  },
  {
   "cell_type": "code",
   "execution_count": 3,
   "metadata": {},
   "outputs": [],
   "source": [
    "df.columns=['created_at','id_str','in_reply_to_user_id_str','raw_text']\n",
    "\n",
    "# entfernt Spalte \"created_at\"\n",
    "df = df.drop(columns='created_at')"
   ]
  },
  {
   "cell_type": "code",
   "execution_count": 4,
   "metadata": {},
   "outputs": [
    {
     "data": {
      "text/html": [
       "<div>\n",
       "<style scoped>\n",
       "    .dataframe tbody tr th:only-of-type {\n",
       "        vertical-align: middle;\n",
       "    }\n",
       "\n",
       "    .dataframe tbody tr th {\n",
       "        vertical-align: top;\n",
       "    }\n",
       "\n",
       "    .dataframe thead th {\n",
       "        text-align: right;\n",
       "    }\n",
       "</style>\n",
       "<table border=\"1\" class=\"dataframe\">\n",
       "  <thead>\n",
       "    <tr style=\"text-align: right;\">\n",
       "      <th></th>\n",
       "      <th>id_str</th>\n",
       "      <th>in_reply_to_user_id_str</th>\n",
       "      <th>raw_text</th>\n",
       "    </tr>\n",
       "  </thead>\n",
       "  <tbody>\n",
       "    <tr>\n",
       "      <th>0</th>\n",
       "      <td>1013820394304749573</td>\n",
       "      <td>NaN</td>\n",
       "      <td>People talking shit on México when their team ...</td>\n",
       "    </tr>\n",
       "  </tbody>\n",
       "</table>\n",
       "</div>"
      ],
      "text/plain": [
       "                id_str  in_reply_to_user_id_str  \\\n",
       "0  1013820394304749573                      NaN   \n",
       "\n",
       "                                            raw_text  \n",
       "0  People talking shit on México when their team ...  "
      ]
     },
     "execution_count": 4,
     "metadata": {},
     "output_type": "execute_result"
    }
   ],
   "source": [
    "# drop tweets which startswith 'RT' --> get only original tweets, without Retweets\n",
    "\n",
    "df_filtered_by_RT = df[~df.raw_text.str.startswith('RT')]\n",
    "\n",
    "df_filtered_by_RT.head(1)"
   ]
  },
  {
   "cell_type": "code",
   "execution_count": 5,
   "metadata": {},
   "outputs": [],
   "source": [
    "def extract_chars(my_str):     \n",
    "    return ''.join([c for c in my_str if not(c in emoji.UNICODE_EMOJI)])\n",
    "\n",
    "def anonymize_username(my_str):\n",
    "    anonymized_text = ['@username' if x.startswith('@') else x for x in list(my_str.split())]\n",
    "    return ' '.join(anonymized_text)\n",
    "\n",
    "def anonymize_hashtag(my_str): \n",
    "    return ' '.join(['#hashtag' if x.startswith('#') else x for x in list(my_str.split())])\n",
    "\n",
    "def delete_links(my_str): \n",
    "    return ' '.join(['' if x.startswith('https') else x for x in list(my_str.split())])\n",
    "# to do: hashtags und links entfernen\n",
    "\n",
    "df_clean_text = df['raw_text'].apply(lambda x: delete_links(anonymize_hashtag(anonymize_username(extract_chars(x)))))"
   ]
  },
  {
   "cell_type": "code",
   "execution_count": 6,
   "metadata": {},
   "outputs": [],
   "source": [
    "def extract_emojis(my_str):\n",
    "    return ''.join(c for c in my_str if c in emoji.UNICODE_EMOJI)\n",
    "\n",
    "df_extr_emojis = df['raw_text'].apply(lambda x: extract_emojis(x))"
   ]
  },
  {
   "cell_type": "code",
   "execution_count": 7,
   "metadata": {},
   "outputs": [
    {
     "data": {
      "text/html": [
       "<div>\n",
       "<style scoped>\n",
       "    .dataframe tbody tr th:only-of-type {\n",
       "        vertical-align: middle;\n",
       "    }\n",
       "\n",
       "    .dataframe tbody tr th {\n",
       "        vertical-align: top;\n",
       "    }\n",
       "\n",
       "    .dataframe thead th {\n",
       "        text-align: right;\n",
       "    }\n",
       "</style>\n",
       "<table border=\"1\" class=\"dataframe\">\n",
       "  <thead>\n",
       "    <tr style=\"text-align: right;\">\n",
       "      <th></th>\n",
       "      <th>id_str</th>\n",
       "      <th>in_reply_to_user_id_str</th>\n",
       "      <th>raw_text</th>\n",
       "      <th>clean_text</th>\n",
       "      <th>extr_emojis</th>\n",
       "    </tr>\n",
       "  </thead>\n",
       "  <tbody>\n",
       "    <tr>\n",
       "      <th>0</th>\n",
       "      <td>1013820394304749573</td>\n",
       "      <td>NaN</td>\n",
       "      <td>People talking shit on México when their team didn’t even participate in the #worldcup like sit down 😂\"2018-07-02 16:23:12</td>\n",
       "      <td>People talking shit on México when their team didn’t even participate in the #hashtag like sit down \"2018-07-02 16:23:12</td>\n",
       "      <td>😂</td>\n",
       "    </tr>\n",
       "  </tbody>\n",
       "</table>\n",
       "</div>"
      ],
      "text/plain": [
       "                id_str  in_reply_to_user_id_str  \\\n",
       "0  1013820394304749573 NaN                        \n",
       "\n",
       "                                                                                                                     raw_text  \\\n",
       "0  People talking shit on México when their team didn’t even participate in the #worldcup like sit down 😂\"2018-07-02 16:23:12   \n",
       "\n",
       "                                                                                                                 clean_text  \\\n",
       "0  People talking shit on México when their team didn’t even participate in the #hashtag like sit down \"2018-07-02 16:23:12   \n",
       "\n",
       "  extr_emojis  \n",
       "0  😂           "
      ]
     },
     "execution_count": 7,
     "metadata": {},
     "output_type": "execute_result"
    }
   ],
   "source": [
    "# unhide the strings in jupyter notebook\n",
    "pd.options.display.max_rows\n",
    "pd.set_option('display.max_colwidth', -1)\n",
    "\n",
    "# assign all new functions to df\n",
    "new_df = df_filtered_by_RT.assign(clean_text = df_clean_text, extr_emojis = df_extr_emojis)\n",
    "# new_df.head(1)"
   ]
  },
  {
   "cell_type": "code",
   "execution_count": 8,
   "metadata": {},
   "outputs": [
    {
     "data": {
      "text/html": [
       "<div>\n",
       "<style scoped>\n",
       "    .dataframe tbody tr th:only-of-type {\n",
       "        vertical-align: middle;\n",
       "    }\n",
       "\n",
       "    .dataframe tbody tr th {\n",
       "        vertical-align: top;\n",
       "    }\n",
       "\n",
       "    .dataframe thead th {\n",
       "        text-align: right;\n",
       "    }\n",
       "</style>\n",
       "<table border=\"1\" class=\"dataframe\">\n",
       "  <thead>\n",
       "    <tr style=\"text-align: right;\">\n",
       "      <th></th>\n",
       "      <th>id_str</th>\n",
       "      <th>in_reply_to_user_id_str</th>\n",
       "      <th>raw_text</th>\n",
       "      <th>clean_text</th>\n",
       "      <th>extr_emojis</th>\n",
       "    </tr>\n",
       "  </thead>\n",
       "  <tbody>\n",
       "    <tr>\n",
       "      <th>0</th>\n",
       "      <td>1013820394304749573</td>\n",
       "      <td>NaN</td>\n",
       "      <td>People talking shit on México when their team didn’t even participate in the #worldcup like sit down 😂\"2018-07-02 16:23:12</td>\n",
       "      <td>People talking shit on México when their team didn’t even participate in the #hashtag like sit down \"2018-07-02 16:23:12</td>\n",
       "      <td>😂</td>\n",
       "    </tr>\n",
       "  </tbody>\n",
       "</table>\n",
       "</div>"
      ],
      "text/plain": [
       "                id_str  in_reply_to_user_id_str  \\\n",
       "0  1013820394304749573 NaN                        \n",
       "\n",
       "                                                                                                                     raw_text  \\\n",
       "0  People talking shit on México when their team didn’t even participate in the #worldcup like sit down 😂\"2018-07-02 16:23:12   \n",
       "\n",
       "                                                                                                                 clean_text  \\\n",
       "0  People talking shit on México when their team didn’t even participate in the #hashtag like sit down \"2018-07-02 16:23:12   \n",
       "\n",
       "  extr_emojis  \n",
       "0  😂           "
      ]
     },
     "execution_count": 8,
     "metadata": {},
     "output_type": "execute_result"
    }
   ],
   "source": [
    "# rows only with emoji\n",
    "\n",
    "df_emoji_rows = new_df[new_df.extr_emojis != '']\n",
    "# df_emoji_rows.head(1)"
   ]
  },
  {
   "cell_type": "code",
   "execution_count": 10,
   "metadata": {},
   "outputs": [
    {
     "data": {
      "text/plain": [
       "😂       17098\n",
       "⚽       7636 \n",
       "😂😂😂     7306 \n",
       "😂😂      6281 \n",
       "❤       5976 \n",
       "🤔       4532 \n",
       "😍       3961 \n",
       "🙄       2848 \n",
       "👏       2797 \n",
       "🏴       2704 \n",
       "🙌       2649 \n",
       "🔥       2529 \n",
       "👍       2507 \n",
       "😉       2386 \n",
       "😭       2350 \n",
       "😂😂😂😂    2336 \n",
       "😎       2263 \n",
       "🤣       2257 \n",
       "😊       2248 \n",
       "🙏       2196 \n",
       "Name: extr_emojis, dtype: int64"
      ]
     },
     "execution_count": 10,
     "metadata": {},
     "output_type": "execute_result"
    }
   ],
   "source": [
    "# zählen der emoji vorkommen\n",
    "df_emoji_rows.extr_emojis.value_counts().head(20)"
   ]
  },
  {
   "cell_type": "code",
   "execution_count": 11,
   "metadata": {},
   "outputs": [
    {
     "data": {
      "text/html": [
       "<div>\n",
       "<style scoped>\n",
       "    .dataframe tbody tr th:only-of-type {\n",
       "        vertical-align: middle;\n",
       "    }\n",
       "\n",
       "    .dataframe tbody tr th {\n",
       "        vertical-align: top;\n",
       "    }\n",
       "\n",
       "    .dataframe thead th {\n",
       "        text-align: right;\n",
       "    }\n",
       "</style>\n",
       "<table border=\"1\" class=\"dataframe\">\n",
       "  <thead>\n",
       "    <tr style=\"text-align: right;\">\n",
       "      <th></th>\n",
       "      <th>emoji</th>\n",
       "      <th>Anzahl</th>\n",
       "      <th>Prozent</th>\n",
       "    </tr>\n",
       "  </thead>\n",
       "  <tbody>\n",
       "    <tr>\n",
       "      <th>0</th>\n",
       "      <td>😂</td>\n",
       "      <td>17098</td>\n",
       "      <td>20.148480</td>\n",
       "    </tr>\n",
       "    <tr>\n",
       "      <th>1</th>\n",
       "      <td>⚽</td>\n",
       "      <td>7636</td>\n",
       "      <td>8.998350</td>\n",
       "    </tr>\n",
       "    <tr>\n",
       "      <th>2</th>\n",
       "      <td>😂😂😂</td>\n",
       "      <td>7306</td>\n",
       "      <td>8.609474</td>\n",
       "    </tr>\n",
       "    <tr>\n",
       "      <th>3</th>\n",
       "      <td>😂😂</td>\n",
       "      <td>6281</td>\n",
       "      <td>7.401603</td>\n",
       "    </tr>\n",
       "    <tr>\n",
       "      <th>4</th>\n",
       "      <td>❤</td>\n",
       "      <td>5976</td>\n",
       "      <td>7.042187</td>\n",
       "    </tr>\n",
       "    <tr>\n",
       "      <th>5</th>\n",
       "      <td>🤔</td>\n",
       "      <td>4532</td>\n",
       "      <td>5.340561</td>\n",
       "    </tr>\n",
       "    <tr>\n",
       "      <th>6</th>\n",
       "      <td>😍</td>\n",
       "      <td>3961</td>\n",
       "      <td>4.667688</td>\n",
       "    </tr>\n",
       "    <tr>\n",
       "      <th>7</th>\n",
       "      <td>🙄</td>\n",
       "      <td>2848</td>\n",
       "      <td>3.356116</td>\n",
       "    </tr>\n",
       "    <tr>\n",
       "      <th>8</th>\n",
       "      <td>👏</td>\n",
       "      <td>2797</td>\n",
       "      <td>3.296017</td>\n",
       "    </tr>\n",
       "    <tr>\n",
       "      <th>9</th>\n",
       "      <td>🏴</td>\n",
       "      <td>2704</td>\n",
       "      <td>3.186425</td>\n",
       "    </tr>\n",
       "    <tr>\n",
       "      <th>10</th>\n",
       "      <td>🙌</td>\n",
       "      <td>2649</td>\n",
       "      <td>3.121612</td>\n",
       "    </tr>\n",
       "    <tr>\n",
       "      <th>11</th>\n",
       "      <td>🔥</td>\n",
       "      <td>2529</td>\n",
       "      <td>2.980203</td>\n",
       "    </tr>\n",
       "    <tr>\n",
       "      <th>12</th>\n",
       "      <td>👍</td>\n",
       "      <td>2507</td>\n",
       "      <td>2.954278</td>\n",
       "    </tr>\n",
       "    <tr>\n",
       "      <th>13</th>\n",
       "      <td>😉</td>\n",
       "      <td>2386</td>\n",
       "      <td>2.811690</td>\n",
       "    </tr>\n",
       "    <tr>\n",
       "      <th>14</th>\n",
       "      <td>😭</td>\n",
       "      <td>2350</td>\n",
       "      <td>2.769267</td>\n",
       "    </tr>\n",
       "    <tr>\n",
       "      <th>15</th>\n",
       "      <td>😂😂😂😂</td>\n",
       "      <td>2336</td>\n",
       "      <td>2.752769</td>\n",
       "    </tr>\n",
       "    <tr>\n",
       "      <th>16</th>\n",
       "      <td>😎</td>\n",
       "      <td>2263</td>\n",
       "      <td>2.666745</td>\n",
       "    </tr>\n",
       "    <tr>\n",
       "      <th>17</th>\n",
       "      <td>🤣</td>\n",
       "      <td>2257</td>\n",
       "      <td>2.659675</td>\n",
       "    </tr>\n",
       "    <tr>\n",
       "      <th>18</th>\n",
       "      <td>😊</td>\n",
       "      <td>2248</td>\n",
       "      <td>2.649069</td>\n",
       "    </tr>\n",
       "    <tr>\n",
       "      <th>19</th>\n",
       "      <td>🙏</td>\n",
       "      <td>2196</td>\n",
       "      <td>2.587792</td>\n",
       "    </tr>\n",
       "  </tbody>\n",
       "</table>\n",
       "</div>"
      ],
      "text/plain": [
       "   emoji  Anzahl    Prozent\n",
       "0   😂     17098   20.148480\n",
       "1   ⚽     7636    8.998350 \n",
       "2   😂😂😂   7306    8.609474 \n",
       "3   😂😂    6281    7.401603 \n",
       "4   ❤     5976    7.042187 \n",
       "5   🤔     4532    5.340561 \n",
       "6   😍     3961    4.667688 \n",
       "7   🙄     2848    3.356116 \n",
       "8   👏     2797    3.296017 \n",
       "9   🏴     2704    3.186425 \n",
       "10  🙌     2649    3.121612 \n",
       "11  🔥     2529    2.980203 \n",
       "12  👍     2507    2.954278 \n",
       "13  😉     2386    2.811690 \n",
       "14  😭     2350    2.769267 \n",
       "15  😂😂😂😂  2336    2.752769 \n",
       "16  😎     2263    2.666745 \n",
       "17  🤣     2257    2.659675 \n",
       "18  😊     2248    2.649069 \n",
       "19  🙏     2196    2.587792 "
      ]
     },
     "execution_count": 11,
     "metadata": {},
     "output_type": "execute_result"
    }
   ],
   "source": [
    "# percantage of TOP 20 Emoji_all\n",
    "\n",
    "series_emoji_all_top20 = df_emoji_rows.extr_emojis.value_counts().head(20)\n",
    "df_emoji_all_top20 = series_emoji_all_top20.to_frame()\n",
    "df_emoji_all_top20['emoji'] = df_emoji_all_top20.index\n",
    "df_emoji_all_top20['Anzahl'] = df_emoji_all_top20['extr_emojis']\n",
    "df_emoji_all_top20 = df_emoji_all_top20.drop(columns = 'extr_emojis')\n",
    "df_emoji_all_top20.reset_index(inplace=True)\n",
    "df_emoji_all_top20 = df_emoji_all_top20.drop(columns = 'index')\n",
    "df_emoji_all_top20['Prozent'] = df_emoji_all_top20['Anzahl']/df_emoji_all_top20['Anzahl'].sum() * 100\n",
    "df_emoji_all_top20_transpose = df_emoji_all_top20.transpose()\n",
    "df_emoji_all_top20"
   ]
  },
  {
   "cell_type": "code",
   "execution_count": 12,
   "metadata": {},
   "outputs": [
    {
     "data": {
      "text/plain": [
       "84860"
      ]
     },
     "execution_count": 12,
     "metadata": {},
     "output_type": "execute_result"
    }
   ],
   "source": [
    "df_emoji_all_top20['Anzahl'].sum()"
   ]
  },
  {
   "cell_type": "code",
   "execution_count": 13,
   "metadata": {},
   "outputs": [
    {
     "data": {
      "text/html": [
       "<div>\n",
       "<style scoped>\n",
       "    .dataframe tbody tr th:only-of-type {\n",
       "        vertical-align: middle;\n",
       "    }\n",
       "\n",
       "    .dataframe tbody tr th {\n",
       "        vertical-align: top;\n",
       "    }\n",
       "\n",
       "    .dataframe thead th {\n",
       "        text-align: right;\n",
       "    }\n",
       "</style>\n",
       "<table border=\"1\" class=\"dataframe\">\n",
       "  <thead>\n",
       "    <tr style=\"text-align: right;\">\n",
       "      <th></th>\n",
       "      <th>emoji</th>\n",
       "      <th>Anzahl</th>\n",
       "      <th>Prozent</th>\n",
       "    </tr>\n",
       "  </thead>\n",
       "  <tbody>\n",
       "    <tr>\n",
       "      <th>0</th>\n",
       "      <td>😂</td>\n",
       "      <td>17098</td>\n",
       "      <td>22.691741</td>\n",
       "    </tr>\n",
       "    <tr>\n",
       "      <th>1</th>\n",
       "      <td>⚽</td>\n",
       "      <td>7636</td>\n",
       "      <td>10.134176</td>\n",
       "    </tr>\n",
       "    <tr>\n",
       "      <th>2</th>\n",
       "      <td>❤</td>\n",
       "      <td>5976</td>\n",
       "      <td>7.931094</td>\n",
       "    </tr>\n",
       "    <tr>\n",
       "      <th>3</th>\n",
       "      <td>🤔</td>\n",
       "      <td>4532</td>\n",
       "      <td>6.014678</td>\n",
       "    </tr>\n",
       "    <tr>\n",
       "      <th>4</th>\n",
       "      <td>😍</td>\n",
       "      <td>3961</td>\n",
       "      <td>5.256871</td>\n",
       "    </tr>\n",
       "    <tr>\n",
       "      <th>5</th>\n",
       "      <td>🙄</td>\n",
       "      <td>2848</td>\n",
       "      <td>3.779745</td>\n",
       "    </tr>\n",
       "    <tr>\n",
       "      <th>6</th>\n",
       "      <td>👏</td>\n",
       "      <td>2797</td>\n",
       "      <td>3.712060</td>\n",
       "    </tr>\n",
       "    <tr>\n",
       "      <th>7</th>\n",
       "      <td>🏴</td>\n",
       "      <td>2704</td>\n",
       "      <td>3.588634</td>\n",
       "    </tr>\n",
       "    <tr>\n",
       "      <th>8</th>\n",
       "      <td>🙌</td>\n",
       "      <td>2649</td>\n",
       "      <td>3.515641</td>\n",
       "    </tr>\n",
       "    <tr>\n",
       "      <th>9</th>\n",
       "      <td>🔥</td>\n",
       "      <td>2529</td>\n",
       "      <td>3.356382</td>\n",
       "    </tr>\n",
       "    <tr>\n",
       "      <th>10</th>\n",
       "      <td>👍</td>\n",
       "      <td>2507</td>\n",
       "      <td>3.327184</td>\n",
       "    </tr>\n",
       "    <tr>\n",
       "      <th>11</th>\n",
       "      <td>😉</td>\n",
       "      <td>2386</td>\n",
       "      <td>3.166598</td>\n",
       "    </tr>\n",
       "    <tr>\n",
       "      <th>12</th>\n",
       "      <td>😭</td>\n",
       "      <td>2350</td>\n",
       "      <td>3.118820</td>\n",
       "    </tr>\n",
       "    <tr>\n",
       "      <th>13</th>\n",
       "      <td>😎</td>\n",
       "      <td>2263</td>\n",
       "      <td>3.003358</td>\n",
       "    </tr>\n",
       "    <tr>\n",
       "      <th>14</th>\n",
       "      <td>🤣</td>\n",
       "      <td>2257</td>\n",
       "      <td>2.995395</td>\n",
       "    </tr>\n",
       "    <tr>\n",
       "      <th>15</th>\n",
       "      <td>😊</td>\n",
       "      <td>2248</td>\n",
       "      <td>2.983450</td>\n",
       "    </tr>\n",
       "    <tr>\n",
       "      <th>16</th>\n",
       "      <td>🙏</td>\n",
       "      <td>2196</td>\n",
       "      <td>2.914438</td>\n",
       "    </tr>\n",
       "    <tr>\n",
       "      <th>17</th>\n",
       "      <td>😁</td>\n",
       "      <td>2189</td>\n",
       "      <td>2.905148</td>\n",
       "    </tr>\n",
       "    <tr>\n",
       "      <th>18</th>\n",
       "      <td>👀</td>\n",
       "      <td>2127</td>\n",
       "      <td>2.822864</td>\n",
       "    </tr>\n",
       "    <tr>\n",
       "      <th>19</th>\n",
       "      <td>👇</td>\n",
       "      <td>2096</td>\n",
       "      <td>2.781722</td>\n",
       "    </tr>\n",
       "  </tbody>\n",
       "</table>\n",
       "</div>"
      ],
      "text/plain": [
       "   emoji  Anzahl    Prozent\n",
       "0   😂     17098   22.691741\n",
       "1   ⚽     7636    10.134176\n",
       "2   ❤     5976    7.931094 \n",
       "3   🤔     4532    6.014678 \n",
       "4   😍     3961    5.256871 \n",
       "5   🙄     2848    3.779745 \n",
       "6   👏     2797    3.712060 \n",
       "7   🏴     2704    3.588634 \n",
       "8   🙌     2649    3.515641 \n",
       "9   🔥     2529    3.356382 \n",
       "10  👍     2507    3.327184 \n",
       "11  😉     2386    3.166598 \n",
       "12  😭     2350    3.118820 \n",
       "13  😎     2263    3.003358 \n",
       "14  🤣     2257    2.995395 \n",
       "15  😊     2248    2.983450 \n",
       "16  🙏     2196    2.914438 \n",
       "17  😁     2189    2.905148 \n",
       "18  👀     2127    2.822864 \n",
       "19  👇     2096    2.781722 "
      ]
     },
     "execution_count": 13,
     "metadata": {},
     "output_type": "execute_result"
    }
   ],
   "source": [
    "# percantage of TOP 20 Emoji_single\n",
    "\n",
    "\n",
    "series_emoji_single_top20 = df_emoji_rows['extr_emojis'][df_emoji_rows['extr_emojis'].str.len() == 1].value_counts().head(20)\n",
    "df_emoji_single_top20 = series_emoji_single_top20.to_frame()\n",
    "df_emoji_single_top20['emoji'] = df_emoji_single_top20.index\n",
    "df_emoji_single_top20['Anzahl'] = df_emoji_single_top20['extr_emojis']\n",
    "df_emoji_single_top20 = df_emoji_single_top20.drop(columns = 'extr_emojis')\n",
    "df_emoji_single_top20.reset_index(inplace=True)\n",
    "df_emoji_single_top20 = df_emoji_single_top20.drop(columns = 'index')\n",
    "df_emoji_single_top20['Prozent'] = df_emoji_single_top20['Anzahl']/df_emoji_single_top20['Anzahl'].sum() * 100\n",
    "df_emoji_top20_transpose = df_emoji_single_top20.transpose()\n",
    "df_emoji_single_top20"
   ]
  },
  {
   "cell_type": "code",
   "execution_count": 14,
   "metadata": {},
   "outputs": [
    {
     "data": {
      "text/plain": [
       "75349"
      ]
     },
     "execution_count": 14,
     "metadata": {},
     "output_type": "execute_result"
    }
   ],
   "source": [
    "df_emoji_single_top20['Anzahl'].sum()"
   ]
  },
  {
   "cell_type": "code",
   "execution_count": 15,
   "metadata": {},
   "outputs": [],
   "source": [
    "# changing matplotlib font\n",
    "\n",
    "# Along with matplotlib.pyplot, for this one\n",
    "# you also need to import matplotlib itself\n",
    "import matplotlib\n",
    "\n",
    "# Say, \"the default sans-serif font is COMIC SANS\"\n",
    "matplotlib.rcParams['font.sans-serif'] = \"Segoe UI Emoji\"\n",
    "# Then, \"ALWAYS use sans-serif fonts\"\n",
    "matplotlib.rcParams['font.family'] = \"sans-serif\""
   ]
  },
  {
   "cell_type": "code",
   "execution_count": 47,
   "metadata": {},
   "outputs": [
    {
     "data": {
      "image/png": "[encoded data removed]",
      "text/plain": [
       "<Figure size 432x288 with 1 Axes>"
      ]
     },
     "metadata": {},
     "output_type": "display_data"
    }
   ],
   "source": [
    "# vorkommen aller emoji\n",
    "df_emoji_rows.extr_emojis.value_counts().head(20).plot.bar()\n",
    "plt.xlabel('TOP 20 Emoji')\n",
    "plt.ylabel('Anzahl')\n",
    "\n",
    "plt.savefig('df_2_vorkommen_emoji_alle.png', bbox_inches='tight')"
   ]
  },
  {
   "cell_type": "code",
   "execution_count": 46,
   "metadata": {},
   "outputs": [
    {
     "data": {
      "image/png": "[encoded data removed]",
      "text/plain": [
       "<Figure size 432x288 with 1 Axes>"
      ]
     },
     "metadata": {},
     "output_type": "display_data"
    }
   ],
   "source": [
    "# vorkommen von nur einzelnen emoji\n",
    "df_emoji_rows['extr_emojis'][df_emoji_rows['extr_emojis'].str.len() == 1].value_counts().head(20).plot.bar()\n",
    "plt.xlabel('TOP 20 Emoji')\n",
    "plt.ylabel('Anzahl')\n",
    "\n",
    "plt.savefig('df_2_vorkommen_emoji_einzeln.png', bbox_inches='tight')"
   ]
  },
  {
   "cell_type": "code",
   "execution_count": 33,
   "metadata": {},
   "outputs": [
    {
     "data": {
      "text/plain": [
       "numpy.float64"
      ]
     },
     "execution_count": 33,
     "metadata": {},
     "output_type": "execute_result"
    }
   ],
   "source": [
    "### unhide the strings in jupyter notebook\n",
    "pd.options.display.max_rows\n",
    "pd.set_option('display.max_colwidth', -1)\n",
    "\n",
    "\n",
    "#new_df.clean_text[new_df['clean_text']==997055707471003653]\n",
    "type(df.iloc[15]['in_reply_to_user_id_str'])"
   ]
  },
  {
   "cell_type": "code",
   "execution_count": null,
   "metadata": {},
   "outputs": [],
   "source": [
    "Zipfsche Gesetz\n",
    "y-Achse = relative Worthäufigkeit bzw. Emojihäufigkeit\n",
    "x-Achse = Rang\n",
    "https://docs.scipy.org/doc/numpy/reference/generated/numpy.random.zipf.html"
   ]
  },
  {
   "cell_type": "code",
   "execution_count": 19,
   "metadata": {},
   "outputs": [
    {
     "name": "stderr",
     "output_type": "stream",
     "text": [
      "C:\\ProgramData\\Anaconda3\\lib\\site-packages\\ipykernel_launcher.py:4: SettingWithCopyWarning: \n",
      "A value is trying to be set on a copy of a slice from a DataFrame.\n",
      "Try using .loc[row_indexer,col_indexer] = value instead\n",
      "\n",
      "See the caveats in the documentation: http://pandas.pydata.org/pandas-docs/stable/indexing.html#indexing-view-versus-copy\n",
      "  after removing the cwd from sys.path.\n"
     ]
    },
    {
     "name": "stdout",
     "output_type": "stream",
     "text": [
      "id_str:  1013842967482847232\n",
      "re_id:  1013842967482847232\n",
      "found a match\n",
      "id_str:  1013846031681900544\n",
      "re_id:  1013846031681900544\n",
      "found a match\n"
     ]
    }
   ],
   "source": [
    "# test: find a response to an initial tweet\n",
    "df_initial_tweets = df_emoji_rows[df_emoji_rows['in_reply_to_user_id_str'].isnull()].copy() # tweets without reply_id\n",
    "df_response_tweets = df_emoji_rows[~df_emoji_rows['in_reply_to_user_id_str'].isnull()].copy() # tweets with reply_id\n",
    "df_response_tweets['in_reply_to_user_id_str'] = df_response_tweets['in_reply_to_user_id_str'].astype(np.int64).copy()\n",
    "\n",
    "for id_str in df_initial_tweets['id_str']:\n",
    "    for re_id in df_response_tweets['in_reply_to_user_id_str'].head(200):\n",
    "        if id_str == re_id:\n",
    "            print('id_str: ', id_str)\n",
    "            print('re_id: ', re_id)\n",
    "            print('found a match')\n"
   ]
  },
  {
   "cell_type": "code",
   "execution_count": 9,
   "metadata": {
    "scrolled": false
   },
   "outputs": [
    {
     "name": "stdout",
     "output_type": "stream",
     "text": [
      "Done.\n"
     ]
    }
   ],
   "source": [
    "# get initial and response emoji\n",
    "\n",
    "df_emoji = df_emoji_rows.copy()\n",
    "#df_emoji['in_reply_to_user_id_str'] = df_emoji['in_reply_to_user_id_str'].dropna().astype(np.int64)\n",
    "\n",
    "df_initial_tweets = df_emoji[df_emoji['in_reply_to_user_id_str'].isnull()] # tweets without reply_id\n",
    "df_response_tweets = df_emoji[~df_emoji['in_reply_to_user_id_str'].isnull()] # tweets with reply_id\n",
    "\n",
    "# transform datatype in \"in_reply_to_user_id_str\" from numpy.float64 to np.int64\n",
    "#df_emoji['in_reply_to_user_id_str'].dropna().astype(np.int64)\n",
    "conversations = []\n",
    "for reply_id in df_response_tweets['in_reply_to_user_id_str']:\n",
    "    if (df_initial_tweets['id_str'] == reply_id).any():\n",
    "        \n",
    "        #print('intial: ', df_initial_tweets[df_initial_tweets['id_str']== reply_id]['extr_emojis'])\n",
    "        initial = df_initial_tweets[df_initial_tweets['id_str']== reply_id]['extr_emojis']\n",
    "\n",
    "        #print('response :', df_response_tweets[df_response_tweets['in_reply_to_user_id_str']== reply_id]['extr_emojis'])\n",
    "        response = df_response_tweets[df_response_tweets['in_reply_to_user_id_str']== reply_id]['extr_emojis']\n",
    "\n",
    "        \n",
    "        tupl = (initial, response)\n",
    "        conversations.append(tupl)\n",
    "print('Done.')"
   ]
  },
  {
   "cell_type": "code",
   "execution_count": 10,
   "metadata": {},
   "outputs": [],
   "source": [
    "df_wip = pd.DataFrame.from_records(conversations, columns=['initial', 'response'])\n",
    "df_wip['initial']= df_wip['initial'].astype(str)\n",
    "df_wip['response']= df_wip['response'].astype(str)\n",
    "\n",
    "def extract_emojis(my_str):\n",
    "    return ''.join(c for c in my_str if c in emoji.UNICODE_EMOJI)\n",
    "\n",
    "\n",
    "df_extr_emojis_initial = df_wip['initial'].apply(lambda x: extract_emojis(x))\n",
    "df_extr_emojis_response = df_wip['response'].apply(lambda x: extract_emojis(x))\n",
    "df_conv = df_wip.assign(extr_emojis_initial = df_extr_emojis_initial, extr_emojis_response = df_extr_emojis_response)\n"
   ]
  },
  {
   "cell_type": "code",
   "execution_count": 45,
   "metadata": {},
   "outputs": [
    {
     "data": {
      "text/html": [
       "<div>\n",
       "<style scoped>\n",
       "    .dataframe tbody tr th:only-of-type {\n",
       "        vertical-align: middle;\n",
       "    }\n",
       "\n",
       "    .dataframe tbody tr th {\n",
       "        vertical-align: top;\n",
       "    }\n",
       "\n",
       "    .dataframe thead th {\n",
       "        text-align: right;\n",
       "    }\n",
       "</style>\n",
       "<table border=\"1\" class=\"dataframe\">\n",
       "  <thead>\n",
       "    <tr style=\"text-align: right;\">\n",
       "      <th></th>\n",
       "      <th>initial</th>\n",
       "      <th>response</th>\n",
       "      <th>extr_emojis_initial</th>\n",
       "      <th>extr_emojis_response</th>\n",
       "    </tr>\n",
       "  </thead>\n",
       "  <tbody>\n",
       "    <tr>\n",
       "      <th>count</th>\n",
       "      <td>1127</td>\n",
       "      <td>1127</td>\n",
       "      <td>1127</td>\n",
       "      <td>1127</td>\n",
       "    </tr>\n",
       "    <tr>\n",
       "      <th>unique</th>\n",
       "      <td>806</td>\n",
       "      <td>806</td>\n",
       "      <td>435</td>\n",
       "      <td>464</td>\n",
       "    </tr>\n",
       "    <tr>\n",
       "      <th>top</th>\n",
       "      <td>842823    ⚽\\nName: extr_emojis, dtype: object</td>\n",
       "      <td>843127     ⚽  \\n843447     ✔  \\n843566     ✔  \\n843740     😍😎 \\n843808     👻  \\n844414     ⚽  \\n844867     😊🤞♥\\n845178     😊🤞♥\\n848197     ▶  \\n849447     ⚽  \\n852305     ⚽  \\n862232     🏆  \\n876785     👉  \\n880309     👉  \\n899718     👉  \\n908707     😊🤞♥\\n998657     💯  \\n1008917    👉  \\nName: extr_emojis, dtype: object</td>\n",
       "      <td>⚽</td>\n",
       "      <td>😲</td>\n",
       "    </tr>\n",
       "    <tr>\n",
       "      <th>freq</th>\n",
       "      <td>18</td>\n",
       "      <td>18</td>\n",
       "      <td>79</td>\n",
       "      <td>54</td>\n",
       "    </tr>\n",
       "  </tbody>\n",
       "</table>\n",
       "</div>"
      ],
      "text/plain": [
       "                                              initial  \\\n",
       "count   1127                                            \n",
       "unique  806                                             \n",
       "top     842823    ⚽\\nName: extr_emojis, dtype: object   \n",
       "freq    18                                              \n",
       "\n",
       "                                                                                                                                                                                                                                                                                                                                response  \\\n",
       "count   1127                                                                                                                                                                                                                                                                                                                               \n",
       "unique  806                                                                                                                                                                                                                                                                                                                                \n",
       "top     843127     ⚽  \\n843447     ✔  \\n843566     ✔  \\n843740     😍😎 \\n843808     👻  \\n844414     ⚽  \\n844867     😊🤞♥\\n845178     😊🤞♥\\n848197     ▶  \\n849447     ⚽  \\n852305     ⚽  \\n862232     🏆  \\n876785     👉  \\n880309     👉  \\n899718     👉  \\n908707     😊🤞♥\\n998657     💯  \\n1008917    👉  \\nName: extr_emojis, dtype: object   \n",
       "freq    18                                                                                                                                                                                                                                                                                                                                 \n",
       "\n",
       "       extr_emojis_initial extr_emojis_response  \n",
       "count   1127                1127                 \n",
       "unique  435                 464                  \n",
       "top     ⚽                   😲                    \n",
       "freq    79                  54                   "
      ]
     },
     "execution_count": 45,
     "metadata": {},
     "output_type": "execute_result"
    }
   ],
   "source": [
    "df_conv.describe()"
   ]
  },
  {
   "cell_type": "code",
   "execution_count": 11,
   "metadata": {},
   "outputs": [
    {
     "data": {
      "text/html": [
       "<div>\n",
       "<style scoped>\n",
       "    .dataframe tbody tr th:only-of-type {\n",
       "        vertical-align: middle;\n",
       "    }\n",
       "\n",
       "    .dataframe tbody tr th {\n",
       "        vertical-align: top;\n",
       "    }\n",
       "\n",
       "    .dataframe thead th {\n",
       "        text-align: right;\n",
       "    }\n",
       "</style>\n",
       "<table border=\"1\" class=\"dataframe\">\n",
       "  <thead>\n",
       "    <tr style=\"text-align: right;\">\n",
       "      <th></th>\n",
       "      <th>emoji</th>\n",
       "      <th>Anzahl</th>\n",
       "      <th>Prozent</th>\n",
       "    </tr>\n",
       "  </thead>\n",
       "  <tbody>\n",
       "    <tr>\n",
       "      <th>0</th>\n",
       "      <td>⚽</td>\n",
       "      <td>79</td>\n",
       "      <td>25.320513</td>\n",
       "    </tr>\n",
       "    <tr>\n",
       "      <th>1</th>\n",
       "      <td>😂</td>\n",
       "      <td>34</td>\n",
       "      <td>10.897436</td>\n",
       "    </tr>\n",
       "    <tr>\n",
       "      <th>2</th>\n",
       "      <td>♣</td>\n",
       "      <td>20</td>\n",
       "      <td>6.410256</td>\n",
       "    </tr>\n",
       "    <tr>\n",
       "      <th>3</th>\n",
       "      <td>🙌</td>\n",
       "      <td>17</td>\n",
       "      <td>5.448718</td>\n",
       "    </tr>\n",
       "    <tr>\n",
       "      <th>4</th>\n",
       "      <td>😍</td>\n",
       "      <td>15</td>\n",
       "      <td>4.807692</td>\n",
       "    </tr>\n",
       "    <tr>\n",
       "      <th>5</th>\n",
       "      <td>🤔</td>\n",
       "      <td>15</td>\n",
       "      <td>4.807692</td>\n",
       "    </tr>\n",
       "    <tr>\n",
       "      <th>6</th>\n",
       "      <td>😏</td>\n",
       "      <td>14</td>\n",
       "      <td>4.487179</td>\n",
       "    </tr>\n",
       "    <tr>\n",
       "      <th>7</th>\n",
       "      <td>👀</td>\n",
       "      <td>13</td>\n",
       "      <td>4.166667</td>\n",
       "    </tr>\n",
       "    <tr>\n",
       "      <th>8</th>\n",
       "      <td>💪</td>\n",
       "      <td>12</td>\n",
       "      <td>3.846154</td>\n",
       "    </tr>\n",
       "    <tr>\n",
       "      <th>9</th>\n",
       "      <td>👏</td>\n",
       "      <td>11</td>\n",
       "      <td>3.525641</td>\n",
       "    </tr>\n",
       "    <tr>\n",
       "      <th>10</th>\n",
       "      <td>▶</td>\n",
       "      <td>11</td>\n",
       "      <td>3.525641</td>\n",
       "    </tr>\n",
       "    <tr>\n",
       "      <th>11</th>\n",
       "      <td>🔥</td>\n",
       "      <td>9</td>\n",
       "      <td>2.884615</td>\n",
       "    </tr>\n",
       "    <tr>\n",
       "      <th>12</th>\n",
       "      <td>🎾</td>\n",
       "      <td>9</td>\n",
       "      <td>2.884615</td>\n",
       "    </tr>\n",
       "    <tr>\n",
       "      <th>13</th>\n",
       "      <td>👇</td>\n",
       "      <td>8</td>\n",
       "      <td>2.564103</td>\n",
       "    </tr>\n",
       "    <tr>\n",
       "      <th>14</th>\n",
       "      <td>🎉</td>\n",
       "      <td>8</td>\n",
       "      <td>2.564103</td>\n",
       "    </tr>\n",
       "    <tr>\n",
       "      <th>15</th>\n",
       "      <td>🚨</td>\n",
       "      <td>8</td>\n",
       "      <td>2.564103</td>\n",
       "    </tr>\n",
       "    <tr>\n",
       "      <th>16</th>\n",
       "      <td>🏆</td>\n",
       "      <td>8</td>\n",
       "      <td>2.564103</td>\n",
       "    </tr>\n",
       "    <tr>\n",
       "      <th>17</th>\n",
       "      <td>🏴</td>\n",
       "      <td>7</td>\n",
       "      <td>2.243590</td>\n",
       "    </tr>\n",
       "    <tr>\n",
       "      <th>18</th>\n",
       "      <td>👉</td>\n",
       "      <td>7</td>\n",
       "      <td>2.243590</td>\n",
       "    </tr>\n",
       "    <tr>\n",
       "      <th>19</th>\n",
       "      <td>™</td>\n",
       "      <td>7</td>\n",
       "      <td>2.243590</td>\n",
       "    </tr>\n",
       "  </tbody>\n",
       "</table>\n",
       "</div>"
      ],
      "text/plain": [
       "   emoji  Anzahl    Prozent\n",
       "0   ⚽     79      25.320513\n",
       "1   😂     34      10.897436\n",
       "2   ♣     20      6.410256 \n",
       "3   🙌     17      5.448718 \n",
       "4   😍     15      4.807692 \n",
       "5   🤔     15      4.807692 \n",
       "6   😏     14      4.487179 \n",
       "7   👀     13      4.166667 \n",
       "8   💪     12      3.846154 \n",
       "9   👏     11      3.525641 \n",
       "10  ▶     11      3.525641 \n",
       "11  🔥     9       2.884615 \n",
       "12  🎾     9       2.884615 \n",
       "13  👇     8       2.564103 \n",
       "14  🎉     8       2.564103 \n",
       "15  🚨     8       2.564103 \n",
       "16  🏆     8       2.564103 \n",
       "17  🏴     7       2.243590 \n",
       "18  👉     7       2.243590 \n",
       "19  ™     7       2.243590 "
      ]
     },
     "execution_count": 11,
     "metadata": {},
     "output_type": "execute_result"
    }
   ],
   "source": [
    "# Top 20 single Emoji initial\n",
    "series_emoji_single_top20_initial = df_conv['extr_emojis_initial'][df_conv['extr_emojis_initial'].str.len() == 1].value_counts().head(20)\n",
    "\n",
    "\n",
    "df_emoji_single_top20_initial = series_emoji_single_top20_initial.to_frame()\n",
    "df_emoji_single_top20_initial['emoji'] = df_emoji_single_top20_initial.index\n",
    "df_emoji_single_top20_initial['Anzahl'] = df_emoji_single_top20_initial['extr_emojis_initial']\n",
    "df_emoji_single_top20_initial.reset_index(inplace=True)\n",
    "df_emoji_single_top20_initial = df_emoji_single_top20_initial.drop(columns = 'index')\n",
    "df_emoji_single_top20_initial = df_emoji_single_top20_initial.drop(columns = 'extr_emojis_initial')\n",
    "df_emoji_single_top20_initial['Prozent'] = df_emoji_single_top20_initial['Anzahl']/df_emoji_single_top20_initial['Anzahl'].sum() * 100\n",
    "df_emoji_single_top20_initial_transpose = df_emoji_single_top20_initial.transpose()\n",
    "df_emoji_single_top20_initial"
   ]
  },
  {
   "cell_type": "code",
   "execution_count": 46,
   "metadata": {},
   "outputs": [
    {
     "data": {
      "text/plain": [
       "312"
      ]
     },
     "execution_count": 46,
     "metadata": {},
     "output_type": "execute_result"
    }
   ],
   "source": [
    "df_emoji_single_top20_initial['Anzahl'].sum()"
   ]
  },
  {
   "cell_type": "code",
   "execution_count": 12,
   "metadata": {},
   "outputs": [
    {
     "data": {
      "text/html": [
       "<div>\n",
       "<style scoped>\n",
       "    .dataframe tbody tr th:only-of-type {\n",
       "        vertical-align: middle;\n",
       "    }\n",
       "\n",
       "    .dataframe tbody tr th {\n",
       "        vertical-align: top;\n",
       "    }\n",
       "\n",
       "    .dataframe thead th {\n",
       "        text-align: right;\n",
       "    }\n",
       "</style>\n",
       "<table border=\"1\" class=\"dataframe\">\n",
       "  <thead>\n",
       "    <tr style=\"text-align: right;\">\n",
       "      <th></th>\n",
       "      <th>emoji</th>\n",
       "      <th>Anzahl</th>\n",
       "      <th>Prozent</th>\n",
       "    </tr>\n",
       "  </thead>\n",
       "  <tbody>\n",
       "    <tr>\n",
       "      <th>0</th>\n",
       "      <td>😲</td>\n",
       "      <td>54</td>\n",
       "      <td>22.131148</td>\n",
       "    </tr>\n",
       "    <tr>\n",
       "      <th>1</th>\n",
       "      <td>😂</td>\n",
       "      <td>43</td>\n",
       "      <td>17.622951</td>\n",
       "    </tr>\n",
       "    <tr>\n",
       "      <th>2</th>\n",
       "      <td>❤</td>\n",
       "      <td>20</td>\n",
       "      <td>8.196721</td>\n",
       "    </tr>\n",
       "    <tr>\n",
       "      <th>3</th>\n",
       "      <td>⚽</td>\n",
       "      <td>13</td>\n",
       "      <td>5.327869</td>\n",
       "    </tr>\n",
       "    <tr>\n",
       "      <th>4</th>\n",
       "      <td>👍</td>\n",
       "      <td>11</td>\n",
       "      <td>4.508197</td>\n",
       "    </tr>\n",
       "    <tr>\n",
       "      <th>5</th>\n",
       "      <td>🤔</td>\n",
       "      <td>10</td>\n",
       "      <td>4.098361</td>\n",
       "    </tr>\n",
       "    <tr>\n",
       "      <th>6</th>\n",
       "      <td>💜</td>\n",
       "      <td>9</td>\n",
       "      <td>3.688525</td>\n",
       "    </tr>\n",
       "    <tr>\n",
       "      <th>7</th>\n",
       "      <td>🙌</td>\n",
       "      <td>9</td>\n",
       "      <td>3.688525</td>\n",
       "    </tr>\n",
       "    <tr>\n",
       "      <th>8</th>\n",
       "      <td>💪</td>\n",
       "      <td>8</td>\n",
       "      <td>3.278689</td>\n",
       "    </tr>\n",
       "    <tr>\n",
       "      <th>9</th>\n",
       "      <td>📌</td>\n",
       "      <td>8</td>\n",
       "      <td>3.278689</td>\n",
       "    </tr>\n",
       "    <tr>\n",
       "      <th>10</th>\n",
       "      <td>🏴</td>\n",
       "      <td>7</td>\n",
       "      <td>2.868852</td>\n",
       "    </tr>\n",
       "    <tr>\n",
       "      <th>11</th>\n",
       "      <td>😊</td>\n",
       "      <td>7</td>\n",
       "      <td>2.868852</td>\n",
       "    </tr>\n",
       "    <tr>\n",
       "      <th>12</th>\n",
       "      <td>📸</td>\n",
       "      <td>6</td>\n",
       "      <td>2.459016</td>\n",
       "    </tr>\n",
       "    <tr>\n",
       "      <th>13</th>\n",
       "      <td>👇</td>\n",
       "      <td>6</td>\n",
       "      <td>2.459016</td>\n",
       "    </tr>\n",
       "    <tr>\n",
       "      <th>14</th>\n",
       "      <td>👀</td>\n",
       "      <td>6</td>\n",
       "      <td>2.459016</td>\n",
       "    </tr>\n",
       "    <tr>\n",
       "      <th>15</th>\n",
       "      <td>😆</td>\n",
       "      <td>6</td>\n",
       "      <td>2.459016</td>\n",
       "    </tr>\n",
       "    <tr>\n",
       "      <th>16</th>\n",
       "      <td>➡</td>\n",
       "      <td>6</td>\n",
       "      <td>2.459016</td>\n",
       "    </tr>\n",
       "    <tr>\n",
       "      <th>17</th>\n",
       "      <td>😅</td>\n",
       "      <td>5</td>\n",
       "      <td>2.049180</td>\n",
       "    </tr>\n",
       "    <tr>\n",
       "      <th>18</th>\n",
       "      <td>™</td>\n",
       "      <td>5</td>\n",
       "      <td>2.049180</td>\n",
       "    </tr>\n",
       "    <tr>\n",
       "      <th>19</th>\n",
       "      <td>🔥</td>\n",
       "      <td>5</td>\n",
       "      <td>2.049180</td>\n",
       "    </tr>\n",
       "  </tbody>\n",
       "</table>\n",
       "</div>"
      ],
      "text/plain": [
       "   emoji  Anzahl    Prozent\n",
       "0   😲     54      22.131148\n",
       "1   😂     43      17.622951\n",
       "2   ❤     20      8.196721 \n",
       "3   ⚽     13      5.327869 \n",
       "4   👍     11      4.508197 \n",
       "5   🤔     10      4.098361 \n",
       "6   💜     9       3.688525 \n",
       "7   🙌     9       3.688525 \n",
       "8   💪     8       3.278689 \n",
       "9   📌     8       3.278689 \n",
       "10  🏴     7       2.868852 \n",
       "11  😊     7       2.868852 \n",
       "12  📸     6       2.459016 \n",
       "13  👇     6       2.459016 \n",
       "14  👀     6       2.459016 \n",
       "15  😆     6       2.459016 \n",
       "16  ➡     6       2.459016 \n",
       "17  😅     5       2.049180 \n",
       "18  ™     5       2.049180 \n",
       "19  🔥     5       2.049180 "
      ]
     },
     "execution_count": 12,
     "metadata": {},
     "output_type": "execute_result"
    }
   ],
   "source": [
    "# Top 20 single Emoji response\n",
    "series_emoji_single_top20_response = df_conv['extr_emojis_response'][df_conv['extr_emojis_response'].str.len() == 1].value_counts().head(20)\n",
    "\n",
    "\n",
    "df_emoji_single_top20_response = series_emoji_single_top20_response.to_frame()\n",
    "df_emoji_single_top20_response['emoji'] = df_emoji_single_top20_response.index\n",
    "df_emoji_single_top20_response['Anzahl'] = df_emoji_single_top20_response['extr_emojis_response']\n",
    "df_emoji_single_top20_response.reset_index(inplace=True)\n",
    "df_emoji_single_top20_response = df_emoji_single_top20_response.drop(columns = 'index')\n",
    "df_emoji_single_top20_response = df_emoji_single_top20_response.drop(columns = 'extr_emojis_response')\n",
    "df_emoji_single_top20_response['Prozent'] = df_emoji_single_top20_response['Anzahl']/df_emoji_single_top20_response['Anzahl'].sum() * 100\n",
    "df_emoji_single_top20_response_transpose = df_emoji_single_top20_response.transpose()\n",
    "df_emoji_single_top20_response\n"
   ]
  },
  {
   "cell_type": "code",
   "execution_count": 13,
   "metadata": {},
   "outputs": [
    {
     "data": {
      "text/plain": [
       "⚽    5\n",
       "😲    2\n",
       "👏    2\n",
       "Name: extr_emojis_response, dtype: int64"
      ]
     },
     "execution_count": 13,
     "metadata": {},
     "output_type": "execute_result"
    }
   ],
   "source": [
    "# get emo initial and get top 3 response emoji\n",
    "emo = '⚽'\n",
    "df_conv2 = df_conv.drop(columns = ['initial', 'response'])\n",
    "df_conv2_pat = df_conv2[df_conv2['extr_emojis_initial']==emo]\n",
    "df_conv2_pat_single_emoji = df_conv2_pat[df_conv2_pat['extr_emojis_response'].str.len() == 1]\n",
    "df_conv2_pat_single_emoji['extr_emojis_response'].value_counts().head(3)"
   ]
  },
  {
   "cell_type": "code",
   "execution_count": 14,
   "metadata": {},
   "outputs": [
    {
     "data": {
      "text/plain": [
       "😂    11\n",
       "😲    5 \n",
       "👍    2 \n",
       "Name: extr_emojis_response, dtype: int64"
      ]
     },
     "execution_count": 14,
     "metadata": {},
     "output_type": "execute_result"
    }
   ],
   "source": [
    "# get emo initial and get top 3 response emoji\n",
    "emo = '😂'\n",
    "df_conv2 = df_conv.drop(columns = ['initial', 'response'])\n",
    "df_conv2_pat = df_conv2[df_conv2['extr_emojis_initial']==emo]\n",
    "df_conv2_pat_single_emoji = df_conv2_pat[df_conv2_pat['extr_emojis_response'].str.len() == 1]\n",
    "df_conv2_pat_single_emoji['extr_emojis_response'].value_counts().head(3)"
   ]
  },
  {
   "cell_type": "code",
   "execution_count": 15,
   "metadata": {},
   "outputs": [
    {
     "data": {
      "text/plain": [
       "Series([], Name: extr_emojis_response, dtype: int64)"
      ]
     },
     "execution_count": 15,
     "metadata": {},
     "output_type": "execute_result"
    }
   ],
   "source": [
    "# get emo initial and get top 3 response emoji\n",
    "emo = '♣'\n",
    "df_conv2 = df_conv.drop(columns = ['initial', 'response'])\n",
    "df_conv2_pat = df_conv2[df_conv2['extr_emojis_initial']==emo]\n",
    "df_conv2_pat_single_emoji = df_conv2_pat[df_conv2_pat['extr_emojis_response'].str.len() == 1]\n",
    "df_conv2_pat_single_emoji['extr_emojis_response'].value_counts().head(3)"
   ]
  },
  {
   "cell_type": "code",
   "execution_count": 16,
   "metadata": {},
   "outputs": [
    {
     "data": {
      "text/plain": [
       "🙌    5\n",
       "👏    1\n",
       "❤    1\n",
       "Name: extr_emojis_response, dtype: int64"
      ]
     },
     "execution_count": 16,
     "metadata": {},
     "output_type": "execute_result"
    }
   ],
   "source": [
    "# get emo initial and get top 3 response emoji\n",
    "emo = '🙌'\n",
    "df_conv2 = df_conv.drop(columns = ['initial', 'response'])\n",
    "df_conv2_pat = df_conv2[df_conv2['extr_emojis_initial']==emo]\n",
    "df_conv2_pat_single_emoji = df_conv2_pat[df_conv2_pat['extr_emojis_response'].str.len() == 1]\n",
    "df_conv2_pat_single_emoji['extr_emojis_response'].value_counts().head(3)"
   ]
  },
  {
   "cell_type": "code",
   "execution_count": 47,
   "metadata": {},
   "outputs": [
    {
     "data": {
      "text/plain": [
       "❤    2\n",
       "😳    1\n",
       "🤔    1\n",
       "Name: extr_emojis_response, dtype: int64"
      ]
     },
     "execution_count": 47,
     "metadata": {},
     "output_type": "execute_result"
    }
   ],
   "source": [
    "# get emo initial and get top 3 response emoji\n",
    "emo = '😍'\n",
    "df_conv2 = df_conv.drop(columns = ['initial', 'response'])\n",
    "df_conv2_pat = df_conv2[df_conv2['extr_emojis_initial']==emo]\n",
    "df_conv2_pat_single_emoji = df_conv2_pat[df_conv2_pat['extr_emojis_response'].str.len() == 1]\n",
    "df_conv2_pat_single_emoji['extr_emojis_response'].value_counts().head(3)"
   ]
  },
  {
   "cell_type": "code",
   "execution_count": 48,
   "metadata": {},
   "outputs": [
    {
     "data": {
      "image/png": "[encoded data removed]",
      "text/plain": [
       "<matplotlib.figure.Figure at 0x201e8641be0>"
      ]
     },
     "metadata": {},
     "output_type": "display_data"
    }
   ],
   "source": [
    "# changing matplotlib font\n",
    "\n",
    "# Along with matplotlib.pyplot, for this one\n",
    "# you also need to import matplotlib itself\n",
    "import matplotlib\n",
    "\n",
    "# Say, \"the default sans-serif font is COMIC SANS\"\n",
    "matplotlib.rcParams['font.sans-serif'] = \"Segoe UI Emoji\"\n",
    "# Then, \"ALWAYS use sans-serif fonts\"\n",
    "matplotlib.rcParams['font.family'] = \"sans-serif\"\n",
    "\n",
    "###############################\n",
    "\n",
    "# libraries\n",
    "import numpy as np\n",
    "import matplotlib.pyplot as plt\n",
    " \n",
    "# set width of bar\n",
    "barWidth = 0.25\n",
    " \n",
    "# set height of bar\n",
    "bars1 = [5, 11, 0, 5, 2] # first response emojis\n",
    "bars2 = [2, 5, 0, 1, 1] # second response emojis\n",
    "bars3 = [2, 2, 0, 1, 1] # third response emojis\n",
    " \n",
    "# Set position of bar on X axis\n",
    "r1 = np.arange(len(bars1))\n",
    "r2 = [x + barWidth for x in r1]\n",
    "r3 = [x + barWidth for x in r2]\n",
    " \n",
    "# Make the plot\n",
    "plt.bar(r1, bars1, color='#7BB841', width=barWidth, edgecolor='white', label='Rang 1')\n",
    "plt.bar(r2, bars2, color='#557f2d', width=barWidth, edgecolor='white', label='Rang 2')\n",
    "plt.bar(r3, bars3, color='#1D522D', width=barWidth, edgecolor='white', label='Rang 3')\n",
    " \n",
    "# Add xticks on the middle of the group bars\n",
    "plt.xlabel('TOP 5 einzelne initial Emoji', fontweight='bold')\n",
    "plt.ylabel('Anzahl TOP 3 einzelne response Emoji', fontweight = 'bold')\n",
    "plt.xticks([r + barWidth for r in range(len(bars1))], df_emoji_single_top20_initial['emoji'].head(5)) #['⚽', '😂', '♣', '🙌', '😍']\n",
    "\n",
    "#\n",
    "#plt.text(x,y,'emo')\n",
    "# Create legend & Show graphic\n",
    "plt.legend()\n",
    "plt.savefig('df_twitter_top3_der_top5_single_emoji.pdf', bbox_inches='tight') # \n",
    "plt.show()\n",
    "\n"
   ]
  },
  {
   "cell_type": "code",
   "execution_count": 37,
   "metadata": {},
   "outputs": [],
   "source": [
    "# POS Tagger \"TweeboParser\" \n",
    "# creating dataframe\n",
    "\"\"\"\n",
    "# save processed dataframe to file\n",
    "df_emoji_rows['raw_text'].to_csv(r'twitter_stream_df_emoji_rows.txt', header=None, index=None, mode='a', sep=',')\n",
    "\"\"\"\n",
    "\n",
    "# desktop\n",
    "df_pos = pd.read_csv('C:\\\\Users\\\\Wilm Hanke\\\\Documents\\\\GitHub\\\\MSc\\\\ark-tweet-nlp-0.3.2\\\\twitter_stream_POS_tagged_tweets.txt', sep='\\t')\n",
    "# mobile\n",
    "#df_pos = pd.read_csv(\"C:\\\\Users\\\\Wilm\\\\Documents\\\\GitHub\\\\MSc\\\\ark-tweet-nlp-0.3.2\\\\twitter_stream_df_emoji_rows.txt\", sep='\\t')\n",
    "\n",
    "       "
   ]
  },
  {
   "cell_type": "code",
   "execution_count": 38,
   "metadata": {},
   "outputs": [
    {
     "data": {
      "text/html": [
       "<div>\n",
       "<style scoped>\n",
       "    .dataframe tbody tr th:only-of-type {\n",
       "        vertical-align: middle;\n",
       "    }\n",
       "\n",
       "    .dataframe tbody tr th {\n",
       "        vertical-align: top;\n",
       "    }\n",
       "\n",
       "    .dataframe thead th {\n",
       "        text-align: right;\n",
       "    }\n",
       "</style>\n",
       "<table border=\"1\" class=\"dataframe\">\n",
       "  <thead>\n",
       "    <tr style=\"text-align: right;\">\n",
       "      <th></th>\n",
       "      <th>raw_text</th>\n",
       "      <th>POS</th>\n",
       "      <th>likelihood</th>\n",
       "    </tr>\n",
       "  </thead>\n",
       "  <tbody>\n",
       "    <tr>\n",
       "      <th>0</th>\n",
       "      <td>Did you hear about the hungry clock ? It went back four seconds . 😄 #Gemstars #Jokes #Smile 😄 \" 2018-07-02 16:23:15</td>\n",
       "      <td>, V O V P D A N , O V R $ N , E # # # E , $ $ ,</td>\n",
       "      <td>0,9844 0,9994 0,9990 0,9870 0,9940 0,9925 0,9776 0,9946 0,9984 0,9956 0,9981 0,8458 0,8140 0,9941 0,9977 0,9347 0,8925 0,9764 0,9626 0,9028 0,8637 0,9692 0,9918 0,9952</td>\n",
       "    </tr>\n",
       "    <tr>\n",
       "      <th>1</th>\n",
       "      <td>Now that's what you call a game .... action , suspense , drama &amp; comedy ! 🇧🇷⚽🏆 #BRAMEX #WorldCup #soccer … https://t.co/16nhJna0Yz</td>\n",
       "      <td>, R L O O V D N , N , N , N &amp; N , G # # # , U ,</td>\n",
       "      <td>0,9957 0,9883 0,9940 0,9766 0,9992 0,9978 0,9987 0,9974 0,9943 0,9843 0,9974 0,9929 0,9977 0,9889 0,9929 0,9765 0,9974 0,2603 0,8336 0,9911 0,9179 0,4804 0,9868 0,9817</td>\n",
       "    </tr>\n",
       "    <tr>\n",
       "      <th>2</th>\n",
       "      <td>Listening to the match , think it’s Brazil’s to loose ... maybe . It’d b class if #Firminho done a ‘ no look ’ lifting of the cup 😵🏆 #WorldCup2018</td>\n",
       "      <td>, V P D N , V L Z P V , R , L V N P ^ V D , ! V , V P D N G # ,</td>\n",
       "      <td>0,9904 0,9960 0,9977 0,9982 0,9885 0,9954 0,9886 0,9952 0,5994 0,9904 0,8583 0,9785 0,9512 0,9980 0,9948 0,9674 0,9525 0,9987 0,5767 0,9929 0,9815 0,9186 0,5326 0,6597 0,9558 0,9514 0,9950 0,9990 0,9844 0,2897 0,7063 0,9899</td>\n",
       "    </tr>\n",
       "    <tr>\n",
       "      <th>3</th>\n",
       "      <td>Well done Brazil ! But Neymar be trippin ’ 😂😂😂 #neymar #brazil #fifaworldcup #footballmemes #southafricanblogger https://t.co/8M6BfQ5Ne8</td>\n",
       "      <td>! V ^ , &amp; ^ V V , ! ^ # # # # U</td>\n",
       "      <td>0,5353 0,8390 0,9834 0,9950 0,9930 0,9823 0,9905 0,9228 0,9637 0,8805 0,6472 0,3724 0,9711 0,9549 0,9664 0,9949</td>\n",
       "    </tr>\n",
       "    <tr>\n",
       "      <th>4</th>\n",
       "      <td>The 2nd round curse still lives on . Goodbai México ❤ ️🇲🇽 #WorldCup</td>\n",
       "      <td>D A N N R V P , ^ ^ E E #</td>\n",
       "      <td>0,9936 0,4725 0,9827 0,7378 0,9911 0,9685 0,6840 0,9956 0,4521 0,9943 0,6207 0,6770 0,9172</td>\n",
       "    </tr>\n",
       "  </tbody>\n",
       "</table>\n",
       "</div>"
      ],
      "text/plain": [
       "                                                                                                                                               raw_text  \\\n",
       "0   Did you hear about the hungry clock ? It went back four seconds . 😄 #Gemstars #Jokes #Smile 😄 \" 2018-07-02 16:23:15                                   \n",
       "1   Now that's what you call a game .... action , suspense , drama & comedy ! 🇧🇷⚽🏆 #BRAMEX #WorldCup #soccer … https://t.co/16nhJna0Yz                    \n",
       "2   Listening to the match , think it’s Brazil’s to loose ... maybe . It’d b class if #Firminho done a ‘ no look ’ lifting of the cup 😵🏆 #WorldCup2018    \n",
       "3  Well done Brazil ! But Neymar be trippin ’ 😂😂😂 #neymar #brazil #fifaworldcup #footballmemes #southafricanblogger https://t.co/8M6BfQ5Ne8               \n",
       "4  The 2nd round curse still lives on . Goodbai México ❤ ️🇲🇽 #WorldCup                                                                                    \n",
       "\n",
       "                                                               POS  \\\n",
       "0  , V O V P D A N , O V R $ N , E # # # E , $ $ ,                   \n",
       "1  , R L O O V D N , N , N , N & N , G # # # , U ,                   \n",
       "2  , V P D N , V L Z P V , R , L V N P ^ V D , ! V , V P D N G # ,   \n",
       "3  ! V ^ , & ^ V V , ! ^ # # # # U                                   \n",
       "4  D A N N R V P , ^ ^ E E #                                         \n",
       "\n",
       "                                                                                                                                                                                                                        likelihood  \n",
       "0  0,9844 0,9994 0,9990 0,9870 0,9940 0,9925 0,9776 0,9946 0,9984 0,9956 0,9981 0,8458 0,8140 0,9941 0,9977 0,9347 0,8925 0,9764 0,9626 0,9028 0,8637 0,9692 0,9918 0,9952                                                          \n",
       "1  0,9957 0,9883 0,9940 0,9766 0,9992 0,9978 0,9987 0,9974 0,9943 0,9843 0,9974 0,9929 0,9977 0,9889 0,9929 0,9765 0,9974 0,2603 0,8336 0,9911 0,9179 0,4804 0,9868 0,9817                                                          \n",
       "2  0,9904 0,9960 0,9977 0,9982 0,9885 0,9954 0,9886 0,9952 0,5994 0,9904 0,8583 0,9785 0,9512 0,9980 0,9948 0,9674 0,9525 0,9987 0,5767 0,9929 0,9815 0,9186 0,5326 0,6597 0,9558 0,9514 0,9950 0,9990 0,9844 0,2897 0,7063 0,9899  \n",
       "3  0,5353 0,8390 0,9834 0,9950 0,9930 0,9823 0,9905 0,9228 0,9637 0,8805 0,6472 0,3724 0,9711 0,9549 0,9664 0,9949                                                                                                                  \n",
       "4  0,9936 0,4725 0,9827 0,7378 0,9911 0,9685 0,6840 0,9956 0,4521 0,9943 0,6207 0,6770 0,9172                                                                                                                                       "
      ]
     },
     "execution_count": 38,
     "metadata": {},
     "output_type": "execute_result"
    }
   ],
   "source": [
    "df_pos.columns = ['raw_text', 'POS', 'likelihood', 'tweet_text_2']\n",
    "df_pos = df_pos.drop(columns = 'tweet_text_2')\n",
    "df_pos.head()       "
   ]
  },
  {
   "cell_type": "code",
   "execution_count": 142,
   "metadata": {},
   "outputs": [
    {
     "name": "stdout",
     "output_type": "stream",
     "text": [
      "<class 'pandas.core.frame.DataFrame'>\n",
      "RangeIndex: 292110 entries, 0 to 292109\n",
      "Data columns (total 3 columns):\n",
      "raw_text      292110 non-null object\n",
      "POS           292110 non-null object\n",
      "likelihood    292110 non-null object\n",
      "dtypes: object(3)\n",
      "memory usage: 6.7+ MB\n"
     ]
    }
   ],
   "source": [
    "df_pos.info()"
   ]
  },
  {
   "cell_type": "code",
   "execution_count": 39,
   "metadata": {},
   "outputs": [
    {
     "data": {
      "text/html": [
       "<div>\n",
       "<style scoped>\n",
       "    .dataframe tbody tr th:only-of-type {\n",
       "        vertical-align: middle;\n",
       "    }\n",
       "\n",
       "    .dataframe tbody tr th {\n",
       "        vertical-align: top;\n",
       "    }\n",
       "\n",
       "    .dataframe thead th {\n",
       "        text-align: right;\n",
       "    }\n",
       "</style>\n",
       "<table border=\"1\" class=\"dataframe\">\n",
       "  <thead>\n",
       "    <tr style=\"text-align: right;\">\n",
       "      <th></th>\n",
       "      <th>raw_text</th>\n",
       "      <th>POS</th>\n",
       "      <th>likelihood</th>\n",
       "    </tr>\n",
       "  </thead>\n",
       "  <tbody>\n",
       "    <tr>\n",
       "      <th>6122</th>\n",
       "      <td>Two AMAZING and important saves by the Japan keeper . 🙊👏 #BELJPN #WorldCup xx</td>\n",
       "      <td>$ A &amp; A V P D ^ N , G # # E</td>\n",
       "      <td>0,9511 0,9842 0,9967 0,9628 0,8740 0,9990 0,9962 0,9997 0,9854 0,9976 0,2836 0,9072 0,9832 0,7512</td>\n",
       "    </tr>\n",
       "    <tr>\n",
       "      <th>7373</th>\n",
       "      <td>@QuinnB112 Well what a game that was ! That's why we ❤ ️ the #WorldCup x</td>\n",
       "      <td>@ ! O D N P V , L R O E E D ^ E</td>\n",
       "      <td>0,9988 0,9813 0,9693 0,9957 0,9979 0,7547 0,9918 0,9987 0,9941 0,9795 0,9981 0,4239 0,2641 0,9825 0,6220 0,4028</td>\n",
       "    </tr>\n",
       "    <tr>\n",
       "      <th>9108</th>\n",
       "      <td>@Nigelrefowens Well said . Post of the day . 👍 #WorldCup2018 x</td>\n",
       "      <td>@ ! V , N P D N , E # E</td>\n",
       "      <td>0,9989 0,8457 0,9340 0,9961 0,9025 0,9983 0,9996 0,9992 0,9984 0,9257 0,8513 0,3946</td>\n",
       "    </tr>\n",
       "    <tr>\n",
       "      <th>23978</th>\n",
       "      <td>What's happen to de England Chant songs like 3 lions or Vindaloo ? Where's de songs ? 💁 #WorldCup #englandsongs XoOo</td>\n",
       "      <td>L V P V ^ N N P $ N &amp; N , L D N , E # # E</td>\n",
       "      <td>0,9930 0,9987 0,9840 0,2953 0,9795 0,7047 0,9888 0,9296 0,9798 0,9680 0,9906 0,7209 0,9984 0,8442 0,5604 0,9984 0,9978 0,9189 0,9082 0,9838 0,7602</td>\n",
       "    </tr>\n",
       "    <tr>\n",
       "      <th>23984</th>\n",
       "      <td>#Sweden beats #Switzerland to earn quarter-final place ! 🇸🇪⚽️🇨🇭 #SWESUI #Russia2018 #WorldCup #TBW x</td>\n",
       "      <td># V ^ P V N N , G # # # # E</td>\n",
       "      <td>0,5719 0,8896 0,5768 0,9954 0,9986 0,9191 0,9892 0,9986 0,2603 0,6287 0,9822 0,9850 0,9720 0,3966</td>\n",
       "    </tr>\n",
       "  </tbody>\n",
       "</table>\n",
       "</div>"
      ],
      "text/plain": [
       "                                                                                                                   raw_text  \\\n",
       "6122   Two AMAZING and important saves by the Japan keeper . 🙊👏 #BELJPN #WorldCup xx                                          \n",
       "7373   @QuinnB112 Well what a game that was ! That's why we ❤ ️ the #WorldCup x                                               \n",
       "9108   @Nigelrefowens Well said . Post of the day . 👍 #WorldCup2018 x                                                         \n",
       "23978  What's happen to de England Chant songs like 3 lions or Vindaloo ? Where's de songs ? 💁 #WorldCup #englandsongs XoOo   \n",
       "23984  #Sweden beats #Switzerland to earn quarter-final place ! 🇸🇪⚽️🇨🇭 #SWESUI #Russia2018 #WorldCup #TBW x                   \n",
       "\n",
       "                                             POS  \\\n",
       "6122   $ A & A V P D ^ N , G # # E                 \n",
       "7373   @ ! O D N P V , L R O E E D ^ E             \n",
       "9108   @ ! V , N P D N , E # E                     \n",
       "23978  L V P V ^ N N P $ N & N , L D N , E # # E   \n",
       "23984  # V ^ P V N N , G # # # # E                 \n",
       "\n",
       "                                                                                                                                               likelihood  \n",
       "6122   0,9511 0,9842 0,9967 0,9628 0,8740 0,9990 0,9962 0,9997 0,9854 0,9976 0,2836 0,9072 0,9832 0,7512                                                   \n",
       "7373   0,9988 0,9813 0,9693 0,9957 0,9979 0,7547 0,9918 0,9987 0,9941 0,9795 0,9981 0,4239 0,2641 0,9825 0,6220 0,4028                                     \n",
       "9108   0,9989 0,8457 0,9340 0,9961 0,9025 0,9983 0,9996 0,9992 0,9984 0,9257 0,8513 0,3946                                                                 \n",
       "23978  0,9930 0,9987 0,9840 0,2953 0,9795 0,7047 0,9888 0,9296 0,9798 0,9680 0,9906 0,7209 0,9984 0,8442 0,5604 0,9984 0,9978 0,9189 0,9082 0,9838 0,7602  \n",
       "23984  0,5719 0,8896 0,5768 0,9954 0,9986 0,9191 0,9892 0,9986 0,2603 0,6287 0,9822 0,9850 0,9720 0,3966                                                   "
      ]
     },
     "execution_count": 39,
     "metadata": {},
     "output_type": "execute_result"
    }
   ],
   "source": [
    "df_pos_emo_end = df_pos[df_pos['POS'].str.endswith('E',na = False)]\n",
    "df_pos_emo_end.head()"
   ]
  },
  {
   "cell_type": "code",
   "execution_count": 144,
   "metadata": {},
   "outputs": [
    {
     "name": "stdout",
     "output_type": "stream",
     "text": [
      "<class 'pandas.core.frame.DataFrame'>\n",
      "Int64Index: 89 entries, 6122 to 291107\n",
      "Data columns (total 3 columns):\n",
      "raw_text      89 non-null object\n",
      "POS           89 non-null object\n",
      "likelihood    89 non-null object\n",
      "dtypes: object(3)\n",
      "memory usage: 2.8+ KB\n"
     ]
    }
   ],
   "source": [
    "df_pos_emo_end.info()"
   ]
  },
  {
   "cell_type": "code",
   "execution_count": 40,
   "metadata": {},
   "outputs": [],
   "source": [
    "# finding the last word category befor emoji \n",
    "\n",
    "def last_word_category(my_string):\n",
    "    s = list(my_string.replace(\" \",\"\"))\n",
    "    categories = []\n",
    "    index = 0\n",
    "    \n",
    "    while index != len(s):\n",
    "    #print(s[index])\n",
    "        if s[index] == 'E':\n",
    "            category = s[index-1]\n",
    "            categories.append(category)\n",
    "        index += 1\n",
    "    return ' '.join(categories)\n",
    "\n",
    "df_last_word_category = df_pos_emo_end['POS'].apply(lambda x: last_word_category(x))"
   ]
  },
  {
   "cell_type": "code",
   "execution_count": 41,
   "metadata": {},
   "outputs": [
    {
     "data": {
      "text/html": [
       "<div>\n",
       "<style scoped>\n",
       "    .dataframe tbody tr th:only-of-type {\n",
       "        vertical-align: middle;\n",
       "    }\n",
       "\n",
       "    .dataframe tbody tr th {\n",
       "        vertical-align: top;\n",
       "    }\n",
       "\n",
       "    .dataframe thead th {\n",
       "        text-align: right;\n",
       "    }\n",
       "</style>\n",
       "<table border=\"1\" class=\"dataframe\">\n",
       "  <thead>\n",
       "    <tr style=\"text-align: right;\">\n",
       "      <th></th>\n",
       "      <th>raw_text</th>\n",
       "      <th>POS</th>\n",
       "      <th>likelihood</th>\n",
       "      <th>last_word_category</th>\n",
       "    </tr>\n",
       "  </thead>\n",
       "  <tbody>\n",
       "    <tr>\n",
       "      <th>6122</th>\n",
       "      <td>Two AMAZING and important saves by the Japan keeper . 🙊👏 #BELJPN #WorldCup xx</td>\n",
       "      <td>$ A &amp; A V P D ^ N , G # # E</td>\n",
       "      <td>0,9511 0,9842 0,9967 0,9628 0,8740 0,9990 0,9962 0,9997 0,9854 0,9976 0,2836 0,9072 0,9832 0,7512</td>\n",
       "      <td>#</td>\n",
       "    </tr>\n",
       "    <tr>\n",
       "      <th>7373</th>\n",
       "      <td>@QuinnB112 Well what a game that was ! That's why we ❤ ️ the #WorldCup x</td>\n",
       "      <td>@ ! O D N P V , L R O E E D ^ E</td>\n",
       "      <td>0,9988 0,9813 0,9693 0,9957 0,9979 0,7547 0,9918 0,9987 0,9941 0,9795 0,9981 0,4239 0,2641 0,9825 0,6220 0,4028</td>\n",
       "      <td>O E ^</td>\n",
       "    </tr>\n",
       "    <tr>\n",
       "      <th>9108</th>\n",
       "      <td>@Nigelrefowens Well said . Post of the day . 👍 #WorldCup2018 x</td>\n",
       "      <td>@ ! V , N P D N , E # E</td>\n",
       "      <td>0,9989 0,8457 0,9340 0,9961 0,9025 0,9983 0,9996 0,9992 0,9984 0,9257 0,8513 0,3946</td>\n",
       "      <td>, #</td>\n",
       "    </tr>\n",
       "    <tr>\n",
       "      <th>23978</th>\n",
       "      <td>What's happen to de England Chant songs like 3 lions or Vindaloo ? Where's de songs ? 💁 #WorldCup #englandsongs XoOo</td>\n",
       "      <td>L V P V ^ N N P $ N &amp; N , L D N , E # # E</td>\n",
       "      <td>0,9930 0,9987 0,9840 0,2953 0,9795 0,7047 0,9888 0,9296 0,9798 0,9680 0,9906 0,7209 0,9984 0,8442 0,5604 0,9984 0,9978 0,9189 0,9082 0,9838 0,7602</td>\n",
       "      <td>, #</td>\n",
       "    </tr>\n",
       "    <tr>\n",
       "      <th>23984</th>\n",
       "      <td>#Sweden beats #Switzerland to earn quarter-final place ! 🇸🇪⚽️🇨🇭 #SWESUI #Russia2018 #WorldCup #TBW x</td>\n",
       "      <td># V ^ P V N N , G # # # # E</td>\n",
       "      <td>0,5719 0,8896 0,5768 0,9954 0,9986 0,9191 0,9892 0,9986 0,2603 0,6287 0,9822 0,9850 0,9720 0,3966</td>\n",
       "      <td>#</td>\n",
       "    </tr>\n",
       "  </tbody>\n",
       "</table>\n",
       "</div>"
      ],
      "text/plain": [
       "                                                                                                                   raw_text  \\\n",
       "6122   Two AMAZING and important saves by the Japan keeper . 🙊👏 #BELJPN #WorldCup xx                                          \n",
       "7373   @QuinnB112 Well what a game that was ! That's why we ❤ ️ the #WorldCup x                                               \n",
       "9108   @Nigelrefowens Well said . Post of the day . 👍 #WorldCup2018 x                                                         \n",
       "23978  What's happen to de England Chant songs like 3 lions or Vindaloo ? Where's de songs ? 💁 #WorldCup #englandsongs XoOo   \n",
       "23984  #Sweden beats #Switzerland to earn quarter-final place ! 🇸🇪⚽️🇨🇭 #SWESUI #Russia2018 #WorldCup #TBW x                   \n",
       "\n",
       "                                             POS  \\\n",
       "6122   $ A & A V P D ^ N , G # # E                 \n",
       "7373   @ ! O D N P V , L R O E E D ^ E             \n",
       "9108   @ ! V , N P D N , E # E                     \n",
       "23978  L V P V ^ N N P $ N & N , L D N , E # # E   \n",
       "23984  # V ^ P V N N , G # # # # E                 \n",
       "\n",
       "                                                                                                                                               likelihood  \\\n",
       "6122   0,9511 0,9842 0,9967 0,9628 0,8740 0,9990 0,9962 0,9997 0,9854 0,9976 0,2836 0,9072 0,9832 0,7512                                                    \n",
       "7373   0,9988 0,9813 0,9693 0,9957 0,9979 0,7547 0,9918 0,9987 0,9941 0,9795 0,9981 0,4239 0,2641 0,9825 0,6220 0,4028                                      \n",
       "9108   0,9989 0,8457 0,9340 0,9961 0,9025 0,9983 0,9996 0,9992 0,9984 0,9257 0,8513 0,3946                                                                  \n",
       "23978  0,9930 0,9987 0,9840 0,2953 0,9795 0,7047 0,9888 0,9296 0,9798 0,9680 0,9906 0,7209 0,9984 0,8442 0,5604 0,9984 0,9978 0,9189 0,9082 0,9838 0,7602   \n",
       "23984  0,5719 0,8896 0,5768 0,9954 0,9986 0,9191 0,9892 0,9986 0,2603 0,6287 0,9822 0,9850 0,9720 0,3966                                                    \n",
       "\n",
       "      last_word_category  \n",
       "6122   #                  \n",
       "7373   O E ^              \n",
       "9108   , #                \n",
       "23978  , #                \n",
       "23984  #                  "
      ]
     },
     "execution_count": 41,
     "metadata": {},
     "output_type": "execute_result"
    }
   ],
   "source": [
    "df_pos_emo_end = df_pos_emo_end.assign(last_word_category = df_last_word_category)\n",
    "\n",
    "df_pos_emo_end.head()"
   ]
  },
  {
   "cell_type": "code",
   "execution_count": 42,
   "metadata": {},
   "outputs": [
    {
     "data": {
      "text/plain": [
       "#    21\n",
       "G    4 \n",
       ",    4 \n",
       "^    3 \n",
       "@    1 \n",
       "Name: last_word_category, dtype: int64"
      ]
     },
     "execution_count": 42,
     "metadata": {},
     "output_type": "execute_result"
    }
   ],
   "source": [
    "# last word category to emoji\n",
    "\n",
    "df_pos_emo_end = df_pos_emo_end[df_pos_emo_end.last_word_category.str.len() == 1]\n",
    "df_pos_emo_end.last_word_category.value_counts().head(20)"
   ]
  },
  {
   "cell_type": "code",
   "execution_count": 43,
   "metadata": {},
   "outputs": [
    {
     "data": {
      "text/plain": [
       "<matplotlib.axes._subplots.AxesSubplot at 0x202089119b0>"
      ]
     },
     "execution_count": 43,
     "metadata": {},
     "output_type": "execute_result"
    },
    {
     "data": {
      "image/png": "[encoded data removed]",
      "text/plain": [
       "<matplotlib.figure.Figure at 0x201c8227f28>"
      ]
     },
     "metadata": {},
     "output_type": "display_data"
    }
   ],
   "source": [
    "df_pos_emo_end.last_word_category.value_counts().head(10).plot.bar()"
   ]
  },
  {
   "cell_type": "code",
   "execution_count": 44,
   "metadata": {},
   "outputs": [
    {
     "data": {
      "image/png": "[encoded data removed]",
      "text/plain": [
       "<matplotlib.figure.Figure at 0x20208911828>"
      ]
     },
     "metadata": {},
     "output_type": "display_data"
    }
   ],
   "source": [
    "# pie chart percentag of word categories\n",
    "\n",
    "labels = 'Hashtag', 'Nomen', 'Abkürzungen/Fremdwörter/Symbole', 'Eigennamen', 'Twitter-Username'\n",
    "fracs = [21, 4, 4, 3, 1]\n",
    "plt.pie(fracs, labels = labels, autopct='%.2f')\n",
    "plt.axis('equal') \n",
    "plt.savefig('df_twitter_stream_last_word_category.pdf', bbox_inches='tight')"
   ]
  }
 ],
 "metadata": {
  "kernelspec": {
   "display_name": "Python 3",
   "language": "python",
   "name": "python3"
  },
  "language_info": {
   "codemirror_mode": {
    "name": "ipython",
    "version": 3
   },
   "file_extension": ".py",
   "mimetype": "text/x-python",
   "name": "python",
   "nbconvert_exporter": "python",
   "pygments_lexer": "ipython3",
   "version": "3.6.5"
  }
 },
 "nbformat": 4,
 "nbformat_minor": 2
}
